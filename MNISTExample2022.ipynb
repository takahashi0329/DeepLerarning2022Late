{
  "nbformat": 4,
  "nbformat_minor": 0,
  "metadata": {
    "colab": {
      "provenance": [],
      "authorship_tag": "ABX9TyMG2gUxz43smQ2m3Yvv9I7y",
      "include_colab_link": true
    },
    "kernelspec": {
      "name": "python3",
      "display_name": "Python 3"
    },
    "language_info": {
      "name": "python"
    }
  },
  "cells": [
    {
      "cell_type": "markdown",
      "metadata": {
        "id": "view-in-github",
        "colab_type": "text"
      },
      "source": [
        "<a href=\"https://colab.research.google.com/github/takahashi0329/DeepLerarning2022Late/blob/main/MNISTExample2022.ipynb\" target=\"_parent\"><img src=\"https://colab.research.google.com/assets/colab-badge.svg\" alt=\"Open In Colab\"/></a>"
      ]
    },
    {
      "cell_type": "markdown",
      "source": [
        "# MNISTデータセットを使って手書き数字の画像判定を実装する"
      ],
      "metadata": {
        "id": "nTkpgEOf_869"
      }
    },
    {
      "cell_type": "markdown",
      "source": [
        "## ライブラリをimport"
      ],
      "metadata": {
        "id": "Iksem595AXNm"
      }
    },
    {
      "cell_type": "code",
      "source": [
        "from tensorflow.python.util.tf_export import InvalidSymbolNameError\n",
        "import keras\n",
        "# 学習用ライブラリ\n",
        "#from keras.models import Sequential #学習モデル Sequentialモデル\n",
        "#from keras.layers.core import Dense, Dropout,Activation# ニューロンの各層\n",
        "#from tensorflow.keras.optimizers import RMSprop\n",
        "#from keras.callbacks import EarlyStopping, CSVLogger\n",
        "#MNISTデータセット読み込む\n",
        "#from keras.detasets import mnist\n",
        "\n",
        "%matplotlib inline\n",
        "import matplotlib.pyplot as plt"
      ],
      "metadata": {
        "id": "Oh7rrkbmAVgE"
      },
      "execution_count": 1,
      "outputs": []
    },
    {
      "cell_type": "code",
      "source": [
        "# 学習用ライブラリ\n",
        "from tensorflow  import keras\n",
        "# MNISTデータセットを読み込む\n",
        "from tensorflow.keras.datasets import mnist\n",
        "#学習モデル Sequentialモデル\n",
        "from tensorflow.keras.models import Sequential\n",
        "# ニューロンの各層\n",
        "from tensorflow.keras.layers import Dense, Dropout, Activation\n",
        "from tensorflow.keras.optimizers import RMSprop\n",
        "from keras.callbacks import EarlyStopping, CSVLogger\n",
        "\n",
        "# 表示用にpyplotを読み込む\n",
        "%matplotlib inline\n",
        "import matplotlib.pyplot as plt"
      ],
      "metadata": {
        "id": "OILBnwWugK23"
      },
      "execution_count": 2,
      "outputs": []
    },
    {
      "cell_type": "markdown",
      "source": [
        "### ハイパーパラメータ（人間が決めるパラメータ）の定義"
      ],
      "metadata": {
        "id": "79Z-_TrKjAwc"
      }
    },
    {
      "cell_type": "code",
      "source": [
        "# バッチサイズ（元のデータを何件ごとにまとめて処理するか）\n",
        "batch_size = 128\n",
        "# クラス数（結果をいくつに分類するか）\n",
        "num_classes = 10\n",
        "# エッポクサイズ（学習の回数：順伝播逆伝播の繰り返し数）\n",
        "epochs = 20"
      ],
      "metadata": {
        "id": "q_mTrBMxDem_"
      },
      "execution_count": 3,
      "outputs": []
    },
    {
      "cell_type": "markdown",
      "source": [
        "###MINISTデータセットのデータを読み込む"
      ],
      "metadata": {
        "id": "zLjCYDt-lmb0"
      }
    },
    {
      "cell_type": "code",
      "source": [
        "# MNISTデータセット読み込み\n",
        "# x_**は画像データ、y_**は答え（その画像が数字の何なのか）\n",
        "#**_trainは学習用データ、**_testは検証用データ\n",
        "(x_train, y_train), (x_test, y_test) = mnist. load_data();"
      ],
      "metadata": {
        "id": "jHF3N1mRl8Q9",
        "colab": {
          "base_uri": "https://localhost:8080/"
        },
        "outputId": "9d68d5af-c276-4a1b-cc76-aa4c45cde4ac"
      },
      "execution_count": 4,
      "outputs": [
        {
          "output_type": "stream",
          "name": "stdout",
          "text": [
            "Downloading data from https://storage.googleapis.com/tensorflow/tf-keras-datasets/mnist.npz\n",
            "11490434/11490434 [==============================] - 0s 0us/step\n"
          ]
        }
      ]
    },
    {
      "cell_type": "code",
      "source": [
        "# ループして x_train に入ったMNISTの画像データを試しに表示\n",
        "for i in range(10):\n",
        "  # pyplot で表示していく\n",
        "  plt.subplot(2,5, i+1) #2行5列で、i+1番目の画面をプロットセット\n",
        "  plt.title(\"M_%d\" % i)#「M_0」のような形式でタイトルを表示\n",
        "  plt.axis(\"off\")#軸線をオフ\n",
        "  plt.imshow(x_train[i].reshape(28,28), cmap=None)\n",
        "#ループ終わり\n",
        "plt.show()\n"
      ],
      "metadata": {
        "colab": {
          "base_uri": "https://localhost:8080/",
          "height": 223
        },
        "id": "sRzoBCDins2q",
        "outputId": "e7d92909-6971-4d07-d262-394b32075523"
      },
      "execution_count": 5,
      "outputs": [
        {
          "output_type": "display_data",
          "data": {
            "text/plain": [
              "<Figure size 432x288 with 10 Axes>"
            ],
            "image/png": "[encoded data removed]"
          },
          "metadata": {
            "needs_background": "light"
          }
        }
      ]
    },
    {
      "cell_type": "markdown",
      "source": [
        "## データの前処理（画像サイズを正規化）\n",
        "データを１文字分１行（1レコード）の形にする"
      ],
      "metadata": {
        "id": "mRdc6l3ZrlXh"
      }
    },
    {
      "cell_type": "code",
      "source": [
        "# 28*28ピクセルの画面を１行にすると、784ピクセルになる\n",
        "# 横に784個、0～255までのRGB色数値が並ぶようにする\n",
        "# x_trainは60,000字（60,000行）分*784列の2次元配列に変換することになる\n",
        "x_train = x_train.reshape(60000, 784).astype('float32')\n",
        "# x_testは10,000字（10,000行）分*784列の2次元配列に変換することになる\n",
        "x_test = x_test.reshape(10000, 784).astype('float32')\n",
        "# 画像ドットの色情報(RGB 0～255)を0～1の小数値の範囲に変換する\n",
        "x_train /= 255 #x_trainのひとつひとつを、255で割った値で上書き\n",
        "x_test /= 255\n",
        "# 答えデータをnum_classesの数(10)に分類\n",
        "y_train = keras.utils.to_categorical(y_train, num_classes) #学習用\n",
        "y_test = keras.utils.to_categorical(y_test, num_classes)# 検証用\n"
      ],
      "metadata": {
        "id": "lhGenY_LqhFT"
      },
      "execution_count": 6,
      "outputs": []
    },
    {
      "cell_type": "markdown",
      "source": [
        "###変換したデータの形を表示して確認"
      ],
      "metadata": {
        "id": "DwydKG7v3iXj"
      }
    },
    {
      "cell_type": "code",
      "source": [
        "# 学習　xデータ"
      ],
      "metadata": {
        "id": "bi8hq0573q7G"
      },
      "execution_count": 7,
      "outputs": []
    },
    {
      "cell_type": "code",
      "source": [
        "print(x_train.shape) #60,000行(6万文字レコード) 784列\n",
        "print(x_test.shape) #10,000行(1万文字レコード) 784列\n",
        "print(y_train.shape) #60,000行(6万文字レコード)、(num_class:0～9の分類)\n",
        "print(y_test.shape) #10,000行1万文字レコード)、(num_class:0～9の分類)"
      ],
      "metadata": {
        "colab": {
          "base_uri": "https://localhost:8080/"
        },
        "id": "6yEWwK183vmL",
        "outputId": "e40d486a-15ce-4405-d6fb-210e8f064dbf"
      },
      "execution_count": 8,
      "outputs": [
        {
          "output_type": "stream",
          "name": "stdout",
          "text": [
            "(60000, 784)\n",
            "(10000, 784)\n",
            "(60000, 10)\n",
            "(10000, 10)\n"
          ]
        }
      ]
    },
    {
      "cell_type": "markdown",
      "source": [
        "## 学習モデルを組み立てる\n",
        "生成した学習モデルのインスタンスに層を追加していく"
      ],
      "metadata": {
        "id": "UuS6N7X07zMO"
      }
    },
    {
      "cell_type": "code",
      "source": [
        "# 学習モデルを生成\n",
        "model = Sequential()"
      ],
      "metadata": {
        "id": "SAEmi6DY4iuz"
      },
      "execution_count": 9,
      "outputs": []
    },
    {
      "cell_type": "code",
      "source": [
        "# ニューラル層を作っていく\n",
        "# 784次元のデータが、任意の数だけ入力され、512次元の形で出力される\n",
        "model.add(Dense(512, input_shape=(784, ) ) )\n",
        "# 活性化関数をrelu関数に指定\n",
        "model.add(Activation('relu'))\n",
        "# Dropout(データを間引いて過学習を防ぐ)\n",
        "model.add(Dropout(0.2)) #20%の結果値を0にリセット"
      ],
      "metadata": {
        "id": "8IG26N__85Tf"
      },
      "execution_count": 10,
      "outputs": []
    },
    {
      "cell_type": "markdown",
      "source": [
        "###2層目を追加する"
      ],
      "metadata": {
        "id": "MpbviFV4A6Rn"
      }
    },
    {
      "cell_type": "code",
      "source": [
        "# ニューロンの層の追加\n",
        "model.add(Dense(512)) #512の次元で出力される\n",
        "# 活性化関数をrelu関数に指定\n",
        "model.add(Activation('relu'))\n",
        "# Dropout(データを間引いて過学習を防ぐ)\n",
        "model.add(Dropout(0.2)) #20%の結果値を0にリセット"
      ],
      "metadata": {
        "id": "joiAs-sbBBUc"
      },
      "execution_count": 11,
      "outputs": []
    },
    {
      "cell_type": "markdown",
      "source": [
        "###モデルに3層目(最後の層)を追加する"
      ],
      "metadata": {
        "id": "nDx868pfEFx-"
      }
    },
    {
      "cell_type": "code",
      "source": [
        "# ニューロンの3層目(出力層)の追加\n",
        "model.add(Dense(num_classes))#最後は10個(num_classes)に分類\n",
        "# 最後だけ活性化関数はsoftmaxを指定する\n",
        "# (複数の出力値の合計が「1.0」( = 100%)になるように値を返してくれるから)\n",
        "model.add(Activation('softmax'))"
      ],
      "metadata": {
        "id": "jRrZDsXxC9GD"
      },
      "execution_count": 12,
      "outputs": []
    },
    {
      "cell_type": "markdown",
      "source": [
        "### 組み立てた学習モデルの要約(サマリ・概要)を表示"
      ],
      "metadata": {
        "id": "TkX6Gs4YGhsV"
      }
    },
    {
      "cell_type": "code",
      "source": [
        "# 学習モデルのサマリ\n",
        "model.summary()"
      ],
      "metadata": {
        "colab": {
          "base_uri": "https://localhost:8080/"
        },
        "id": "ipsZGvwOGUow",
        "outputId": "703aba5e-49d0-4522-e349-b55a282d1b62"
      },
      "execution_count": 13,
      "outputs": [
        {
          "output_type": "stream",
          "name": "stdout",
          "text": [
            "Model: \"sequential\"\n",
            "_________________________________________________________________\n",
            " Layer (type)                Output Shape              Param #   \n",
            "=================================================================\n",
            " dense (Dense)               (None, 512)               401920    \n",
            "                                                                 \n",
            " activation (Activation)     (None, 512)               0         \n",
            "                                                                 \n",
            " dropout (Dropout)           (None, 512)               0         \n",
            "                                                                 \n",
            " dense_1 (Dense)             (None, 512)               262656    \n",
            "                                                                 \n",
            " activation_1 (Activation)   (None, 512)               0         \n",
            "                                                                 \n",
            " dropout_1 (Dropout)         (None, 512)               0         \n",
            "                                                                 \n",
            " dense_2 (Dense)             (None, 10)                5130      \n",
            "                                                                 \n",
            " activation_2 (Activation)   (None, 10)                0         \n",
            "                                                                 \n",
            "=================================================================\n",
            "Total params: 669,706\n",
            "Trainable params: 669,706\n",
            "Non-trainable params: 0\n",
            "_________________________________________________________________\n"
          ]
        }
      ]
    },
    {
      "cell_type": "markdown",
      "source": [
        "#学習モデルが動く形になるようにコンパイルする"
      ],
      "metadata": {
        "id": "HraFTjyP0Huw"
      }
    },
    {
      "cell_type": "code",
      "source": [
        "model.compile(\n",
        "    loss='categorical_crossentrory', #損失の基準(交差エントロビー誤差)\n",
        "    optimizer=RMSprop(),\n",
        "    metrics=['accuracy'] #accuracy=精度\n",
        ")"
      ],
      "metadata": {
        "id": "HRcs_aJpIm6J"
      },
      "execution_count": 14,
      "outputs": []
    },
    {
      "cell_type": "markdown",
      "source": [
        "##学習モデルに学習させる"
      ],
      "metadata": {
        "id": "rjD3PFeP2mf7"
      }
    },
    {
      "cell_type": "code",
      "source": [
        "#コールバック処理の準備\n",
        "#学習が進んで損失がそれ以上下がらなければ早期終了する\n",
        "#patience=2は、2回学習分だけ、終了まで様子をみる\n",
        "es = EarlyStoping(monitor='val_loss',patience=2)\n",
        "#ログ出力\n",
        "csv_logger = CSVLogger('training.log')\n",
        "\n",
        "#学習モデルに学習させる\n",
        "#(正解データにフィットするように重みを調整する)\n",
        "hist = model.fit(\n",
        "    x_train, #学習用画像データ：問題\n",
        "    y_train, #学習用数値データ：正解\n",
        "    batch_size = batch_size, #バッチサイズ（batch_size = 20）\n",
        "    epochs = epochs, #エポック数（学習回数）（epochs = 20）\n",
        "    verbose = 1, #進行状況を表示\n",
        "     #validationデータ(チェックデータ)の割合\n",
        "     #(10%:この分は学習には使わず、学習中の検証チェックに使う)\n",
        "    validation_split =0.1,\n",
        "    callbacks=[es, csv_logger] #コンパイルチェック処理\n",
        ")"
      ],
      "metadata": {
        "colab": {
          "base_uri": "https://localhost:8080/",
          "height": 247
        },
        "id": "OadNzrnk1hk5",
        "outputId": "270b9d82-4dd7-407e-ef7b-3eeb6ec775eb"
      },
      "execution_count": 20,
      "outputs": [
        {
          "output_type": "error",
          "ename": "NameError",
          "evalue": "ignored",
          "traceback": [
            "\u001b[0;31m---------------------------------------------------------------------------\u001b[0m",
            "\u001b[0;31mNameError\u001b[0m                                 Traceback (most recent call last)",
            "\u001b[0;32m<ipython-input-20-00382f3a5ca8>\u001b[0m in \u001b[0;36m<module>\u001b[0;34m\u001b[0m\n\u001b[1;32m      2\u001b[0m \u001b[0;31m#学習が進んで損失がそれ以上下がらなければ早期終了する\u001b[0m\u001b[0;34m\u001b[0m\u001b[0;34m\u001b[0m\u001b[0;34m\u001b[0m\u001b[0m\n\u001b[1;32m      3\u001b[0m \u001b[0;31m#patience=2は、2回学習分だけ、終了まで様子をみる\u001b[0m\u001b[0;34m\u001b[0m\u001b[0;34m\u001b[0m\u001b[0;34m\u001b[0m\u001b[0m\n\u001b[0;32m----> 4\u001b[0;31m \u001b[0mes\u001b[0m \u001b[0;34m=\u001b[0m \u001b[0mEarlyStoping\u001b[0m\u001b[0;34m(\u001b[0m\u001b[0mmonitor\u001b[0m\u001b[0;34m=\u001b[0m\u001b[0;34m'val_loss'\u001b[0m\u001b[0;34m,\u001b[0m\u001b[0mpatience\u001b[0m\u001b[0;34m=\u001b[0m\u001b[0;36m2\u001b[0m\u001b[0;34m)\u001b[0m\u001b[0;34m\u001b[0m\u001b[0;34m\u001b[0m\u001b[0m\n\u001b[0m\u001b[1;32m      5\u001b[0m \u001b[0;31m#ログ出力\u001b[0m\u001b[0;34m\u001b[0m\u001b[0;34m\u001b[0m\u001b[0;34m\u001b[0m\u001b[0m\n\u001b[1;32m      6\u001b[0m \u001b[0mcsv_logger\u001b[0m \u001b[0;34m=\u001b[0m \u001b[0mCSVLogger\u001b[0m\u001b[0;34m(\u001b[0m\u001b[0;34m'training.log'\u001b[0m\u001b[0;34m)\u001b[0m\u001b[0;34m\u001b[0m\u001b[0;34m\u001b[0m\u001b[0m\n",
            "\u001b[0;31mNameError\u001b[0m: name 'EarlyStoping' is not defined"
          ]
        }
      ]
    },
    {
      "cell_type": "markdown",
      "source": [
        "##学習済みのモデルを使って、学習結果をテスト検証する"
      ],
      "metadata": {
        "id": "4deKBg0Q_U5l"
      }
    },
    {
      "cell_type": "code",
      "source": [
        "#evaluateメソッドで検証する\n",
        "score = model.evaluate(x_test,y_test,varbose=0) #検証結果を変数に代入\n",
        "print('test loss:',score[0]) #損失（誤り率）を表示\n",
        "print('test acc:',score[1]) #精度（正解率）を表示"
      ],
      "metadata": {
        "colab": {
          "base_uri": "https://localhost:8080/",
          "height": 435
        },
        "id": "QIavmcPD96gj",
        "outputId": "76a6bc9f-5d1b-42c9-f296-70cfe65f9e45"
      },
      "execution_count": 21,
      "outputs": [
        {
          "output_type": "error",
          "ename": "TypeError",
          "evalue": "ignored",
          "traceback": [
            "\u001b[0;31m---------------------------------------------------------------------------\u001b[0m",
            "\u001b[0;31mTypeError\u001b[0m                                 Traceback (most recent call last)",
            "\u001b[0;32m<ipython-input-21-6aed5cf883ee>\u001b[0m in \u001b[0;36m<module>\u001b[0;34m\u001b[0m\n\u001b[1;32m      1\u001b[0m \u001b[0;31m#evaluateメソッドで検証する\u001b[0m\u001b[0;34m\u001b[0m\u001b[0;34m\u001b[0m\u001b[0;34m\u001b[0m\u001b[0m\n\u001b[0;32m----> 2\u001b[0;31m \u001b[0mscore\u001b[0m \u001b[0;34m=\u001b[0m \u001b[0mmodel\u001b[0m\u001b[0;34m.\u001b[0m\u001b[0mevaluate\u001b[0m\u001b[0;34m(\u001b[0m\u001b[0mx_test\u001b[0m\u001b[0;34m,\u001b[0m\u001b[0my_test\u001b[0m\u001b[0;34m,\u001b[0m\u001b[0mvarbose\u001b[0m\u001b[0;34m=\u001b[0m\u001b[0;36m0\u001b[0m\u001b[0;34m)\u001b[0m \u001b[0;31m#検証結果を変数に代入\u001b[0m\u001b[0;34m\u001b[0m\u001b[0;34m\u001b[0m\u001b[0m\n\u001b[0m\u001b[1;32m      3\u001b[0m \u001b[0mprint\u001b[0m\u001b[0;34m(\u001b[0m\u001b[0;34m'test loss:'\u001b[0m\u001b[0;34m,\u001b[0m\u001b[0mscore\u001b[0m\u001b[0;34m[\u001b[0m\u001b[0;36m0\u001b[0m\u001b[0;34m]\u001b[0m\u001b[0;34m)\u001b[0m \u001b[0;31m#損失（誤り率）を表示\u001b[0m\u001b[0;34m\u001b[0m\u001b[0;34m\u001b[0m\u001b[0m\n\u001b[1;32m      4\u001b[0m \u001b[0mprint\u001b[0m\u001b[0;34m(\u001b[0m\u001b[0;34m'test acc:'\u001b[0m\u001b[0;34m,\u001b[0m\u001b[0mscore\u001b[0m\u001b[0;34m[\u001b[0m\u001b[0;36m1\u001b[0m\u001b[0;34m]\u001b[0m\u001b[0;34m)\u001b[0m \u001b[0;31m#精度（正解率）を表示\u001b[0m\u001b[0;34m\u001b[0m\u001b[0;34m\u001b[0m\u001b[0m\n",
            "\u001b[0;32m/usr/local/lib/python3.7/dist-packages/keras/utils/traceback_utils.py\u001b[0m in \u001b[0;36merror_handler\u001b[0;34m(*args, **kwargs)\u001b[0m\n\u001b[1;32m     65\u001b[0m     \u001b[0;32mexcept\u001b[0m \u001b[0mException\u001b[0m \u001b[0;32mas\u001b[0m \u001b[0me\u001b[0m\u001b[0;34m:\u001b[0m  \u001b[0;31m# pylint: disable=broad-except\u001b[0m\u001b[0;34m\u001b[0m\u001b[0;34m\u001b[0m\u001b[0m\n\u001b[1;32m     66\u001b[0m       \u001b[0mfiltered_tb\u001b[0m \u001b[0;34m=\u001b[0m \u001b[0m_process_traceback_frames\u001b[0m\u001b[0;34m(\u001b[0m\u001b[0me\u001b[0m\u001b[0;34m.\u001b[0m\u001b[0m__traceback__\u001b[0m\u001b[0;34m)\u001b[0m\u001b[0;34m\u001b[0m\u001b[0;34m\u001b[0m\u001b[0m\n\u001b[0;32m---> 67\u001b[0;31m       \u001b[0;32mraise\u001b[0m \u001b[0me\u001b[0m\u001b[0;34m.\u001b[0m\u001b[0mwith_traceback\u001b[0m\u001b[0;34m(\u001b[0m\u001b[0mfiltered_tb\u001b[0m\u001b[0;34m)\u001b[0m \u001b[0;32mfrom\u001b[0m \u001b[0;32mNone\u001b[0m\u001b[0;34m\u001b[0m\u001b[0;34m\u001b[0m\u001b[0m\n\u001b[0m\u001b[1;32m     68\u001b[0m     \u001b[0;32mfinally\u001b[0m\u001b[0;34m:\u001b[0m\u001b[0;34m\u001b[0m\u001b[0;34m\u001b[0m\u001b[0m\n\u001b[1;32m     69\u001b[0m       \u001b[0;32mdel\u001b[0m \u001b[0mfiltered_tb\u001b[0m\u001b[0;34m\u001b[0m\u001b[0;34m\u001b[0m\u001b[0m\n",
            "\u001b[0;32m/usr/local/lib/python3.7/dist-packages/keras/engine/training.py\u001b[0m in \u001b[0;36mevaluate\u001b[0;34m(self, x, y, batch_size, verbose, sample_weight, steps, callbacks, max_queue_size, workers, use_multiprocessing, return_dict, **kwargs)\u001b[0m\n\u001b[1;32m   1705\u001b[0m     \u001b[0muse_cached_eval_dataset\u001b[0m \u001b[0;34m=\u001b[0m \u001b[0mkwargs\u001b[0m\u001b[0;34m.\u001b[0m\u001b[0mpop\u001b[0m\u001b[0;34m(\u001b[0m\u001b[0;34m'_use_cached_eval_dataset'\u001b[0m\u001b[0;34m,\u001b[0m \u001b[0;32mFalse\u001b[0m\u001b[0;34m)\u001b[0m\u001b[0;34m\u001b[0m\u001b[0;34m\u001b[0m\u001b[0m\n\u001b[1;32m   1706\u001b[0m     \u001b[0;32mif\u001b[0m \u001b[0mkwargs\u001b[0m\u001b[0;34m:\u001b[0m\u001b[0;34m\u001b[0m\u001b[0;34m\u001b[0m\u001b[0m\n\u001b[0;32m-> 1707\u001b[0;31m       \u001b[0;32mraise\u001b[0m \u001b[0mTypeError\u001b[0m\u001b[0;34m(\u001b[0m\u001b[0;34mf'Invalid keyword arguments: {list(kwargs.keys())}'\u001b[0m\u001b[0;34m)\u001b[0m\u001b[0;34m\u001b[0m\u001b[0;34m\u001b[0m\u001b[0m\n\u001b[0m\u001b[1;32m   1708\u001b[0m \u001b[0;34m\u001b[0m\u001b[0m\n\u001b[1;32m   1709\u001b[0m     \u001b[0;32mif\u001b[0m \u001b[0mself\u001b[0m\u001b[0;34m.\u001b[0m\u001b[0mdistribute_strategy\u001b[0m\u001b[0;34m.\u001b[0m\u001b[0m_should_use_with_coordinator\u001b[0m\u001b[0;34m:\u001b[0m  \u001b[0;31m# pylint: disable=protected-access\u001b[0m\u001b[0;34m\u001b[0m\u001b[0;34m\u001b[0m\u001b[0m\n",
            "\u001b[0;31mTypeError\u001b[0m: Invalid keyword arguments: ['varbose']"
          ]
        }
      ]
    },
    {
      "cell_type": "markdown",
      "source": [
        "##学習履歴をグラフ表示する"
      ],
      "metadata": {
        "id": "csRMtonJBWLY"
      }
    },
    {
      "cell_type": "code",
      "source": [
        "loss = hist.history['loss']\n",
        "val_loss = hist.history['val_loss']\n",
        "\n",
        "epochs = len(loss)\n",
        "plt.plot(range(epochs),loss,marker='.',label='loss(training_data)')\n",
        "plt.plot(range(epochs),val_loss,marker='.',label='loss(evaluation_data)')\n",
        "plt.legend(loc='best')\n",
        "plt.grid()\n",
        "plt.xlabel('epoch')\n",
        "plt.ylabel('loss')\n",
        "#最後に表示\n",
        "plt.show()"
      ],
      "metadata": {
        "id": "n1CqZharBRKc"
      },
      "execution_count": null,
      "outputs": []
    }
  ]
}