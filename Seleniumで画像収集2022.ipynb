{
  "nbformat": 4,
  "nbformat_minor": 0,
  "metadata": {
    "colab": {
      "provenance": [],
      "authorship_tag": "ABX9TyOczWXqRVE707avp2iVQO+7",
      "include_colab_link": true
    },
    "kernelspec": {
      "name": "python3",
      "display_name": "Python 3"
    },
    "language_info": {
      "name": "python"
    }
  },
  "cells": [
    {
      "cell_type": "markdown",
      "metadata": {
        "id": "view-in-github",
        "colab_type": "text"
      },
      "source": [
        "<a href=\"https://colab.research.google.com/github/takahashi0329/DeepLerarning2022Late/blob/main/Selenium%E3%81%A7%E7%94%BB%E5%83%8F%E5%8F%8E%E9%9B%862022.ipynb\" target=\"_parent\"><img src=\"https://colab.research.google.com/assets/colab-badge.svg\" alt=\"Open In Colab\"/></a>"
      ]
    },
    {
      "cell_type": "markdown",
      "source": [
        "#seleniumを使って自動で画像検索し、結果を収集する"
      ],
      "metadata": {
        "id": "lDdkaKO52Oab"
      }
    },
    {
      "cell_type": "markdown",
      "source": [
        "##必要なアプリのインストール\n",
        "###Seleniumのインストール(バージョンを指定する)"
      ],
      "metadata": {
        "id": "41MWXyMv2nBY"
      }
    },
    {
      "cell_type": "code",
      "execution_count": 1,
      "metadata": {
        "colab": {
          "base_uri": "https://localhost:8080/"
        },
        "id": "LbrbC1ub1UVY",
        "outputId": "59293276-9d56-4f46-e303-24468b142097"
      },
      "outputs": [
        {
          "output_type": "stream",
          "name": "stdout",
          "text": [
            "Looking in indexes: https://pypi.org/simple, https://us-python.pkg.dev/colab-wheels/public/simple/\n",
            "Requirement already satisfied: selenium==4.1.0 in /usr/local/lib/python3.8/dist-packages (4.1.0)\n",
            "Requirement already satisfied: trio~=0.17 in /usr/local/lib/python3.8/dist-packages (from selenium==4.1.0) (0.22.0)\n",
            "Requirement already satisfied: trio-websocket~=0.9 in /usr/local/lib/python3.8/dist-packages (from selenium==4.1.0) (0.9.2)\n",
            "Requirement already satisfied: urllib3[secure]~=1.26 in /usr/local/lib/python3.8/dist-packages (from selenium==4.1.0) (1.26.13)\n",
            "Requirement already satisfied: idna in /usr/local/lib/python3.8/dist-packages (from trio~=0.17->selenium==4.1.0) (2.10)\n",
            "Requirement already satisfied: sniffio in /usr/local/lib/python3.8/dist-packages (from trio~=0.17->selenium==4.1.0) (1.3.0)\n",
            "Requirement already satisfied: outcome in /usr/local/lib/python3.8/dist-packages (from trio~=0.17->selenium==4.1.0) (1.2.0)\n",
            "Requirement already satisfied: sortedcontainers in /usr/local/lib/python3.8/dist-packages (from trio~=0.17->selenium==4.1.0) (2.4.0)\n",
            "Requirement already satisfied: attrs>=19.2.0 in /usr/local/lib/python3.8/dist-packages (from trio~=0.17->selenium==4.1.0) (22.1.0)\n",
            "Requirement already satisfied: exceptiongroup>=1.0.0rc9 in /usr/local/lib/python3.8/dist-packages (from trio~=0.17->selenium==4.1.0) (1.0.4)\n",
            "Requirement already satisfied: async-generator>=1.9 in /usr/local/lib/python3.8/dist-packages (from trio~=0.17->selenium==4.1.0) (1.10)\n",
            "Requirement already satisfied: wsproto>=0.14 in /usr/local/lib/python3.8/dist-packages (from trio-websocket~=0.9->selenium==4.1.0) (1.2.0)\n",
            "Requirement already satisfied: certifi in /usr/local/lib/python3.8/dist-packages (from urllib3[secure]~=1.26->selenium==4.1.0) (2022.9.24)\n",
            "Requirement already satisfied: urllib3-secure-extra in /usr/local/lib/python3.8/dist-packages (from urllib3[secure]~=1.26->selenium==4.1.0) (0.1.0)\n",
            "Requirement already satisfied: pyOpenSSL>=0.14 in /usr/local/lib/python3.8/dist-packages (from urllib3[secure]~=1.26->selenium==4.1.0) (22.1.0)\n",
            "Requirement already satisfied: cryptography>=1.3.4 in /usr/local/lib/python3.8/dist-packages (from urllib3[secure]~=1.26->selenium==4.1.0) (38.0.4)\n",
            "Requirement already satisfied: cffi>=1.12 in /usr/local/lib/python3.8/dist-packages (from cryptography>=1.3.4->urllib3[secure]~=1.26->selenium==4.1.0) (1.15.1)\n",
            "Requirement already satisfied: pycparser in /usr/local/lib/python3.8/dist-packages (from cffi>=1.12->cryptography>=1.3.4->urllib3[secure]~=1.26->selenium==4.1.0) (2.21)\n",
            "Requirement already satisfied: h11<1,>=0.9.0 in /usr/local/lib/python3.8/dist-packages (from wsproto>=0.14->trio-websocket~=0.9->selenium==4.1.0) (0.14.0)\n"
          ]
        }
      ],
      "source": [
        "!pip install selenium==4.1.0"
      ]
    },
    {
      "cell_type": "markdown",
      "source": [
        "### chromium-chromedriverのインストール"
      ],
      "metadata": {
        "id": "T3NxqAu53aok"
      }
    },
    {
      "cell_type": "code",
      "source": [
        "!apt install chromium-chromedriver"
      ],
      "metadata": {
        "colab": {
          "base_uri": "https://localhost:8080/"
        },
        "id": "nJRFBr_C2_v9",
        "outputId": "28161775-90c4-4987-f55a-c4ed03351a74"
      },
      "execution_count": 2,
      "outputs": [
        {
          "output_type": "stream",
          "name": "stdout",
          "text": [
            "Reading package lists... Done\n",
            "Building dependency tree       \n",
            "Reading state information... Done\n",
            "chromium-chromedriver is already the newest version (107.0.5304.87-0ubuntu11.18.04.1).\n",
            "The following package was automatically installed and is no longer required:\n",
            "  libnvidia-common-460\n",
            "Use 'apt autoremove' to remove it.\n",
            "0 upgraded, 0 newly installed, 0 to remove and 7 not upgraded.\n"
          ]
        }
      ]
    },
    {
      "cell_type": "markdown",
      "source": [
        "## seleniumを実行して操作する"
      ],
      "metadata": {
        "id": "jvriEp8h4thw"
      }
    },
    {
      "cell_type": "code",
      "source": [
        "import requests\n",
        "from selenium import webdriver\n",
        "from selenium.webdriver.chrome.options import Options\n",
        "import os\n",
        "import time\n",
        "import datetime\n",
        "# エラー処理用\n",
        "from selenium.common.exceptions import NoSuchShadowRootException\n",
        "from selenium.common.exceptions import ElementClickInterceptedException"
      ],
      "metadata": {
        "colab": {
          "base_uri": "https://localhost:8080/"
        },
        "id": "I2Ut-mcj4MU8",
        "outputId": "3ae768de-4fbf-478e-ed58-936c20285b9b"
      },
      "execution_count": 3,
      "outputs": [
        {
          "output_type": "stream",
          "name": "stderr",
          "text": [
            "/usr/local/lib/python3.8/dist-packages/requests/__init__.py:89: RequestsDependencyWarning: urllib3 (1.26.13) or chardet (3.0.4) doesn't match a supported version!\n",
            "  warnings.warn(\"urllib3 ({}) or chardet ({}) doesn't match a supported \"\n"
          ]
        }
      ]
    },
    {
      "cell_type": "markdown",
      "source": [
        "## ログ用に時刻を取得"
      ],
      "metadata": {
        "id": "FUbWvnj17Fde"
      }
    },
    {
      "cell_type": "code",
      "source": [
        "tm_start = time.time() #処理時間計測用\n",
        "dt_now = datetime.datetime.now() #現在の日時\n",
        "dt_date_str = dt_now.strftime('%Y/%m/%d %H:%M') #書式設定して\n",
        "print(dt_date_str)"
      ],
      "metadata": {
        "colab": {
          "base_uri": "https://localhost:8080/"
        },
        "id": "Ic8i-daa6aFr",
        "outputId": "bc701e0d-b712-4793-a511-83dd3b62a3b7"
      },
      "execution_count": 4,
      "outputs": [
        {
          "output_type": "stream",
          "name": "stdout",
          "text": [
            "2022/12/05 02:56\n"
          ]
        }
      ]
    },
    {
      "cell_type": "markdown",
      "source": [
        "##検索に関する設定値を定義する"
      ],
      "metadata": {
        "id": "AoT253nR9n17"
      }
    },
    {
      "cell_type": "code",
      "source": [
        "QUERY = '犬　フリー' #検索したいキーワード\n",
        "LIMIT_DL_NUM = 100 #ダウンロード数の上限\n",
        "SAVE_DIR = 'img/dog_' #出力フォルダ(自動生成させる)\n",
        "FILE_NAME = 'dog_' #ファイル名(後ろに連番と拡張子をつけていく)\n",
        "TIMEOUT = 60 #検索のタイムアウト(秒)\n",
        "ACCESS_WAIT = 1 #アクセスする間隔(秒)←超重要\n",
        "RETRY_NUM = 3 #クリックやrequestのリトライ回数\n",
        "DRIVER_PATH = '/usr/bin/chromedriver' #chromedriver.exeへのパス"
      ],
      "metadata": {
        "id": "pTBC0d9c8fmI"
      },
      "execution_count": 5,
      "outputs": []
    },
    {
      "cell_type": "markdown",
      "source": [
        "## Chromeをヘッドレスモードで起動する\n",
        "ヘッドレスモード = ブラウザを画面に開かないで実行するモード"
      ],
      "metadata": {
        "id": "sMUqUBI9ASIh"
      }
    },
    {
      "cell_type": "code",
      "source": [
        "from selenium.webdriver.chrome import options\n",
        "# optionの指定を準備\n",
        "options = Options()\n",
        "options.add_argument('--headless')\n",
        "options.add_argument('--no-sandbox')\n",
        "options.add_argument('--disable-dev-shm-usage')\n",
        "options.add_argument('start-fullscreen')\n",
        "options.add_argument('--disable-plugins')\n",
        "options.add_argument('--disable-extensions')\n",
        "# 起動する\n",
        "driver = webdriver.Chrome(DRIVER_PATH, options=options)\n",
        "driver.implicitly_wait(TIMEOUT) #タイムアウトを設定\n",
        "# ログに処理時間を出力\n",
        "tm_driver = time.time()\n",
        "print('WebDriver起動完了', f'{tm_driver - tm_start:.1f}s')"
      ],
      "metadata": {
        "colab": {
          "base_uri": "https://localhost:8080/"
        },
        "id": "5VP6bRH3_y_x",
        "outputId": "8196164f-b199-428b-8bf3-6c8eb3cc7851"
      },
      "execution_count": 6,
      "outputs": [
        {
          "output_type": "stream",
          "name": "stderr",
          "text": [
            "<ipython-input-6-6a4538561041>:11: DeprecationWarning: executable_path has been deprecated, please pass in a Service object\n",
            "  driver = webdriver.Chrome(DRIVER_PATH, options=options)\n"
          ]
        },
        {
          "output_type": "stream",
          "name": "stdout",
          "text": [
            "WebDriver起動完了 4.2s\n"
          ]
        }
      ]
    },
    {
      "cell_type": "markdown",
      "source": [
        "##Googleの画像検索へアクセス"
      ],
      "metadata": {
        "id": "n6g-mFtcG7LX"
      }
    },
    {
      "cell_type": "code",
      "source": [
        "# QUERY条件付きでURLを定義する\n",
        "url = f'https://www.google.com/search?q={QUERY}&tbm=isch'\n",
        "# 組み立てたURLでアクセスして検索\n",
        "driver.get(url)\n",
        "# 時刻のログを取得\n",
        "tm_geturl = time.time()\n",
        "print('Google画像検索ページ取得', f'{tm_geturl - tm_driver:.1f}s')\n"
      ],
      "metadata": {
        "colab": {
          "base_uri": "https://localhost:8080/"
        },
        "id": "6Dw_fFafA1Av",
        "outputId": "befb53cf-caf2-4ca1-b7d2-acbe2377889b"
      },
      "execution_count": 7,
      "outputs": [
        {
          "output_type": "stream",
          "name": "stdout",
          "text": [
            "Google画像検索ページ取得 4.8s\n"
          ]
        }
      ]
    },
    {
      "cell_type": "markdown",
      "source": [
        "##検索結果の要素を取得していく"
      ],
      "metadata": {
        "id": "2_UUfi14PftR"
      }
    },
    {
      "cell_type": "code",
      "source": [
        "# ページのサムネイル画像の要素群を取得\n",
        "#(islmpクラスがしていされたimg=サムネイルをすべて拾う)\n",
        "tmb_elems = driver.find_elements_by_css_selector('#islmp img')\n",
        "# サムネイルのリストから各サムネイルのalt属性を取得していく\n",
        "tmb_alts = [tmb.get_attribute('alt') for tmb in tmb_elems]\n",
        "# alt属性が空(小さいサムネイル)のものを差し引いて合計を算出\n",
        "count = len(tmb_alts) - tmb_alts.count('')\n",
        "print(count)"
      ],
      "metadata": {
        "colab": {
          "base_uri": "https://localhost:8080/"
        },
        "id": "1EFwn6LJOXRU",
        "outputId": "d43b448a-a47c-4ef8-a93e-56898222b591"
      },
      "execution_count": 8,
      "outputs": [
        {
          "output_type": "stream",
          "name": "stderr",
          "text": [
            "<ipython-input-8-2b1592267c58>:3: DeprecationWarning: find_elements_by_* commands are deprecated. Please use find_elements() instead\n",
            "  tmb_elems = driver.find_elements_by_css_selector('#islmp img')\n"
          ]
        },
        {
          "output_type": "stream",
          "name": "stdout",
          "text": [
            "48\n"
          ]
        }
      ]
    },
    {
      "cell_type": "markdown",
      "source": [
        "##下にスクロールさせてさらに検索結果を表示させてまたカウント"
      ],
      "metadata": {
        "id": "LidsKTVCTQd0"
      }
    },
    {
      "cell_type": "code",
      "source": [
        "# 定義したLIMIT_DL_NUM(ダウンロード数の上限)になるまでスクロールを繰り返す\n",
        "while count < LIMIT_DL_NUM:\n",
        "  # ページの一番下へスクロールして新しいサムネイル画像を表示させる\n",
        "  driver.execute_script('window.scrollTo(0, document.body.scrollHeight);')\n",
        "  time.sleep(1) #スリープを繰り返す間隔(秒)を入れる←重要\n",
        "  #(islmpクラスがしていされたimg=サムネイルをすべて拾う)\n",
        "  tmb_elems = driver.find_elements_by_css_selector('#islmp img')\n",
        "  # サムネイルのリストから各サムネイルのalt属性を取得していく\n",
        "  tmb_alts = [tmb.get_attribute('alt') for tmb in tmb_elems]\n",
        "  # alt属性が空(小さいサムネイル)のものを差し引いて合計を算出\n",
        "  count = len(tmb_alts) - tmb_alts.count('')\n",
        "  print(count)\n",
        "# ループ終わり"
      ],
      "metadata": {
        "colab": {
          "base_uri": "https://localhost:8080/"
        },
        "id": "mOiDjIMrSOKB",
        "outputId": "27b05e81-f306-4b5d-f378-7bc8f64b8181"
      },
      "execution_count": 9,
      "outputs": [
        {
          "output_type": "stream",
          "name": "stderr",
          "text": [
            "<ipython-input-9-3d4d99cc23c3>:7: DeprecationWarning: find_elements_by_* commands are deprecated. Please use find_elements() instead\n",
            "  tmb_elems = driver.find_elements_by_css_selector('#islmp img')\n"
          ]
        },
        {
          "output_type": "stream",
          "name": "stdout",
          "text": [
            "100\n"
          ]
        }
      ]
    },
    {
      "cell_type": "markdown",
      "source": [
        "## サムネイル画像をクリックすると右側に開かれる領域をオブジェクトに取得"
      ],
      "metadata": {
        "id": "Gwy9UgWsZQ4_"
      }
    },
    {
      "cell_type": "code",
      "source": [
        "imgframe_elem = driver.find_elements_by_id(('islsp'))"
      ],
      "metadata": {
        "colab": {
          "base_uri": "https://localhost:8080/"
        },
        "id": "kra42wEbVnHM",
        "outputId": "1b01d15a-20f9-45d0-83e0-9202eec9c6dc"
      },
      "execution_count": 10,
      "outputs": [
        {
          "output_type": "stream",
          "name": "stderr",
          "text": [
            "<ipython-input-10-533ebf20c90c>:1: DeprecationWarning: find_elements_by_* commands are deprecated. Please use find_elements() instead\n",
            "  imgframe_elem = driver.find_elements_by_id(('islsp'))\n"
          ]
        }
      ]
    },
    {
      "cell_type": "markdown",
      "source": [
        "##画像へURLアクセスして保存する準備をする"
      ],
      "metadata": {
        "id": "9FMFWHeWaNdY"
      }
    },
    {
      "cell_type": "code",
      "source": [
        "#画像の保存フォルダを作成\n",
        "os.makedirs(SAVE_DIR, exist_ok=True)\n",
        "#HTTPリクエスト用のヘッダーを作る\n",
        "HTTP_HEADERS = {'User-Aget':driver.execute_script('return navigator.userAgent;')}\n",
        "print(HTTP_HEADERS)\n",
        "# ダウンロードしていきたい対象のファイル拡張子\n",
        "IMG_EXTS = ('.jpg', '.jpeg', '.png', '.gif')"
      ],
      "metadata": {
        "colab": {
          "base_uri": "https://localhost:8080/"
        },
        "id": "aDMuvVyUZ5uF",
        "outputId": "42339b86-9cd4-480f-d237-63a905766a20"
      },
      "execution_count": 11,
      "outputs": [
        {
          "output_type": "stream",
          "name": "stdout",
          "text": [
            "{'User-Aget': 'Mozilla/5.0 (X11; Linux x86_64) AppleWebKit/537.36 (KHTML, like Gecko) HeadlessChrome/107.0.5304.87 Safari/537.36'}\n"
          ]
        }
      ]
    },
    {
      "cell_type": "markdown",
      "source": [
        "## ダウンロード中に利用する関数を定義する\n",
        "### 画像の拡張子を取得する関数"
      ],
      "metadata": {
        "id": "hGVbbtj4cNUG"
      }
    },
    {
      "cell_type": "code",
      "source": [
        "from selenium.common import exceptions\n",
        "# 拡張子を取得する関数\n",
        "def get_extension(url):\n",
        "  url_lower = url.lower()\n",
        "  for img_ext in IMG_EXTS:#拡張子のリストから１つずつ比較\n",
        "    if img_ext in url_lower:\n",
        "      extension = '.jpg' if img_ext == '.jpeg' else img_ext\n",
        "      break\n",
        "    # if終わり\n",
        "    else:\n",
        "      exceptions = ''\n",
        "    # for終わり\n",
        "  return extension\n",
        "# 関数終わり"
      ],
      "metadata": {
        "id": "Sp54ZEVvbkKn"
      },
      "execution_count": 12,
      "outputs": []
    },
    {
      "cell_type": "markdown",
      "source": [
        "###urlで指定した画像へアクセスし、フォルダ内のファイルとして書き込む"
      ],
      "metadata": {
        "id": "Xli_r9JNN6wn"
      }
    },
    {
      "cell_type": "code",
      "source": [
        "def download_image(url, path, loop):\n",
        "  result = False #戻り値の変数\n",
        "  for i in range(loop):\n",
        "    try:\n",
        "      r = requests.get(url, headers=HTTP_HEADERS, stream=True, timeout=10)\n",
        "      r.raise_for_status()\n",
        "      with open(path,'wb') as f: # バイナリ書き込みモードで開く\n",
        "        f.write(r.content)\n",
        "    except requests.exceptions.SSLError:\n",
        "      print('***** SSL エラー')\n",
        "      break # リトライしない\n",
        "    except requests.exceptions.RequestException as e:\n",
        "      print(f'***** requests エラー({e}): {i + 1}/{RETRY_NUM}')\n",
        "      time.sleep(1)\n",
        "    else:\n",
        "      result = True\n",
        "      break # try成功\n",
        "    # ループ終わり    \n",
        "  #　関数終わり"
      ],
      "metadata": {
        "id": "gL5mb-G3OH1n"
      },
      "execution_count": 14,
      "outputs": []
    },
    {
      "cell_type": "code",
      "source": [
        "### サムネイルを取得し、画像ダウンロードの準備ができたタイミング\n",
        "tm_thumbnails = time.time()\n",
        "print('サムネイル画像取得とDL準備完了', f'{tm_thumbnails - tm_geturl:.1f}s')"
      ],
      "metadata": {
        "colab": {
          "base_uri": "https://localhost:8080/"
        },
        "id": "kh_K7h0sR-FF",
        "outputId": "0e03d583-d4d8-4ba0-d7a3-fb07667e2195"
      },
      "execution_count": 15,
      "outputs": [
        {
          "output_type": "stream",
          "name": "stdout",
          "text": [
            "サムネイル画像取得とDL準備完了 2101.0s\n"
          ]
        }
      ]
    },
    {
      "cell_type": "markdown",
      "source": [
        "##ダウンロード処理"
      ],
      "metadata": {
        "id": "OCOPyREcWCVy"
      }
    },
    {
      "cell_type": "code",
      "source": [
        "EXCLUSION_URL = 'https//lh3.googleusercontent.com/' #除外対象URL\n",
        "count = 0\n",
        "url_list = [ ]\n",
        "\n",
        "# サムネイルをクリック、画像リンクを取得、画像をDL&保存を繰り返す\n",
        "for tmlelem, tmb_alt in zip(tmb_elems, tmb_alts):\n",
        "  \n",
        "# ループ終わり"
      ],
      "metadata": {
        "id": "R4QK4kq4V0Xj"
      },
      "execution_count": null,
      "outputs": []
    }
  ]
}