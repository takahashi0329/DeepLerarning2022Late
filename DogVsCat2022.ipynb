{
  "nbformat": 4,
  "nbformat_minor": 0,
  "metadata": {
    "colab": {
      "provenance": [],
      "authorship_tag": "ABX9TyMNHIFVt/KRrUqrA2to27BX",
      "include_colab_link": true
    },
    "kernelspec": {
      "name": "python3",
      "display_name": "Python 3"
    },
    "language_info": {
      "name": "python"
    }
  },
  "cells": [
    {
      "cell_type": "markdown",
      "metadata": {
        "id": "view-in-github",
        "colab_type": "text"
      },
      "source": [
        "<a href=\"https://colab.research.google.com/github/takahashi0329/DeepLerarning2022Late/blob/main/DogVsCat2022.ipynb\" target=\"_parent\"><img src=\"https://colab.research.google.com/assets/colab-badge.svg\" alt=\"Open In Colab\"/></a>"
      ]
    },
    {
      "cell_type": "markdown",
      "source": [
        "#Karas を使用してディープラーニングをやってみる\n",
        "##画像認識を行う"
      ],
      "metadata": {
        "id": "BCY1lAB0s2cb"
      }
    },
    {
      "cell_type": "markdown",
      "source": [
        "###ライブラリの読み込み"
      ],
      "metadata": {
        "id": "EjtiG5u3teuw"
      }
    },
    {
      "cell_type": "code",
      "source": [
        "%matplotlib inline\n",
        "from keras.applications.vgg16 import VGG16, preprocess_input, decode_predictions\n",
        "from keras.preprocessing import image\n",
        "from PIL import Image\n",
        "import matplotlib.pyplot as plt\n",
        "import numpy as np\n",
        "import sys"
      ],
      "metadata": {
        "id": "oHACYbmHtNyQ"
      },
      "execution_count": 5,
      "outputs": []
    },
    {
      "cell_type": "markdown",
      "source": [
        "### 学習済みモデルの読み込み"
      ],
      "metadata": {
        "id": "dY5osv2rvZcs"
      }
    },
    {
      "cell_type": "code",
      "source": [
        "model = VGG16(weights='imagenet')"
      ],
      "metadata": {
        "colab": {
          "base_uri": "https://localhost:8080/"
        },
        "id": "L8y4PY2iuFPV",
        "outputId": "0785284f-ed2d-422c-b152-92e36c3e6fca"
      },
      "execution_count": 7,
      "outputs": [
        {
          "output_type": "stream",
          "name": "stdout",
          "text": [
            "Downloading data from https://storage.googleapis.com/tensorflow/keras-applications/vgg16/vgg16_weights_tf_dim_ordering_tf_kernels.h5\n",
            "553467904/553467096 [==============================] - 3s 0us/step\n",
            "553476096/553467096 [==============================] - 3s 0us/step\n"
          ]
        }
      ]
    },
    {
      "cell_type": "markdown",
      "source": [
        "### 画像判定のための関数"
      ],
      "metadata": {
        "id": "TPnNJtHnwLsM"
      }
    },
    {
      "cell_type": "code",
      "source": [
        "def predict(filename, featuresize):\n",
        "  img = imge.load_img(filename, target_size=(224,224))\n",
        "  x = image.img_to_array(img)\n",
        "  x = np.expand_dims(x, axis=0)\n",
        "  #学習モデルで判定実行\n",
        "  preds = model.predict(preprocess_input(x))\n",
        "  results = decode_predictions(preds,top=featuresize)[0]\n",
        "  return results\n",
        "  #関数終わり"
      ],
      "metadata": {
        "id": "euzvvKMqv5v8"
      },
      "execution_count": 9,
      "outputs": []
    },
    {
      "cell_type": "markdown",
      "source": [
        "### 画像表示のための関数"
      ],
      "metadata": {
        "id": "ITrZGGefyQd5"
      }
    },
    {
      "cell_type": "code",
      "source": [
        "def showimg(filename, title, i):\n",
        "  im = Image.open(filename) #画像ファイルを開く\n",
        "  im_list = np.array(im) #画像ビットデータをarrayにする\n",
        "  plt.subplot(2,3,i)\n",
        "  plt.title(title)\n",
        "  plt.axis(\"off\")\n",
        "  plt.imshow(im_list)\n",
        "# 関数終わり"
      ],
      "metadata": {
        "id": "7IosLwRtx_DT"
      },
      "execution_count": 10,
      "outputs": []
    },
    {
      "cell_type": "markdown",
      "source": [
        "### Kaggeにある画像データを使用する\n",
        "https://www.kaggle.com/\n",
        "<br>犬猫判定用データ<br>\n",
        "https://www.kaggle.com/c/dogs-vs-cats/data"
      ],
      "metadata": {
        "id": "t9LyY4IIznFM"
      }
    },
    {
      "cell_type": "markdown",
      "source": [
        "###DLしてきたファイルをマウントしたディレクトリにコピーする"
      ],
      "metadata": {
        "id": "9IzYUC3k1Zei"
      }
    },
    {
      "cell_type": "code",
      "source": [
        "# コピーファイルを置くディレクトリを作る\n",
        "import os\n",
        "dir_path =\"/content/dirve/My Drive/2022LATE\"\n",
        "#すでにディレクトリがあってもエラーにしない\n",
        "os.makedirs(dir_path, exist_ok=True)\n",
        "!pwd #今いるディレクトリを表示\n",
        "# ファイルをコピー\n",
        "!cp train.zip\"/content/dirve/My Drive/2022LATE\"\n",
        "#tedt.zipはいったん使わないのでコピーしない"
      ],
      "metadata": {
        "id": "4xKvyNNJzbSA"
      },
      "execution_count": null,
      "outputs": []
    },
    {
      "cell_type": "markdown",
      "source": [
        "##GoogleドライブからColabへファイルをコピー"
      ],
      "metadata": {
        "id": "7qoWWDcx4DJd"
      }
    },
    {
      "cell_type": "code",
      "source": [
        "!cp\"/content/dirve/My Drive/2022LATE\""
      ],
      "metadata": {
        "id": "4BA9cWuE4Qn-"
      },
      "execution_count": null,
      "outputs": []
    },
    {
      "cell_type": "markdown",
      "source": [
        "##zipファイルを解凍する"
      ],
      "metadata": {
        "id": "UoRU76nC4kDW"
      }
    },
    {
      "cell_type": "code",
      "source": [
        "#unzipコマンドで解凍\n",
        "!unzip -o -q \"train.zip\"\n",
        "print(\"zip解凍完了\")"
      ],
      "metadata": {
        "id": "ZPRHbRut4qhZ"
      },
      "execution_count": null,
      "outputs": []
    },
    {
      "cell_type": "markdown",
      "source": [
        "## 解凍した画像を使って画像判定させる"
      ],
      "metadata": {
        "id": "L6uJ0Hfx53ha"
      }
    },
    {
      "cell_type": "code",
      "source": [
        "# 画像を指定する変数\n",
        "filename = \"train/cat.100.jpg\"\n",
        "plt.figure(figsize=(20,10))\n",
        "for in range(1):\n",
        "  showimg(filename,\"What's this??\", i+1)\n",
        "  #ループ終わり\n",
        "  plt.show()\n",
        "\n",
        "  # 表示した画像を判定\n",
        "  results = predict(filename,10)\n",
        "  for result in result:\n",
        "    print(results)"
      ],
      "metadata": {
        "id": "LsrnvmwQ5N9A"
      },
      "execution_count": null,
      "outputs": []
    }
  ]
}