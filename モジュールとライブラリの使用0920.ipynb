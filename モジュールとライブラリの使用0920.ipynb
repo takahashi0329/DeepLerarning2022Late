{
  "nbformat": 4,
  "nbformat_minor": 0,
  "metadata": {
    "colab": {
      "provenance": [],
      "authorship_tag": "ABX9TyNu5/UWZBqZ0iB8fm1nAVIm",
      "include_colab_link": true
    },
    "kernelspec": {
      "name": "python3",
      "display_name": "Python 3"
    },
    "language_info": {
      "name": "python"
    }
  },
  "cells": [
    {
      "cell_type": "markdown",
      "metadata": {
        "id": "view-in-github",
        "colab_type": "text"
      },
      "source": [
        "<a href=\"https://colab.research.google.com/github/takahashi0329/DeepLerarning2022Late/blob/main/%E3%83%A2%E3%82%B8%E3%83%A5%E3%83%BC%E3%83%AB%E3%81%A8%E3%83%A9%E3%82%A4%E3%83%96%E3%83%A9%E3%83%AA%E3%81%AE%E4%BD%BF%E7%94%A80920.ipynb\" target=\"_parent\"><img src=\"https://colab.research.google.com/assets/colab-badge.svg\" alt=\"Open In Colab\"/></a>"
      ]
    },
    {
      "cell_type": "markdown",
      "source": [
        "#モジュールを使う\n",
        "##import文でモジュールを読み込んで使う\n",
        "例) math"
      ],
      "metadata": {
        "id": "zyrQlqO29B8Q"
      }
    },
    {
      "cell_type": "code",
      "source": [
        "# mathモジュールを読み込む\n",
        "import math\n",
        "print(math.pi)# mathの中に定義してある円周率を表示\n",
        "print(math.pow(5,2))#5の2乗\n",
        "print(math.sqrt(9))#9の平方根"
      ],
      "metadata": {
        "colab": {
          "base_uri": "https://localhost:8080/"
        },
        "id": "IPYU1czc9IMa",
        "outputId": "39c9964c-bebd-4454-8ff7-159e2f08811e"
      },
      "execution_count": 17,
      "outputs": [
        {
          "output_type": "stream",
          "name": "stdout",
          "text": [
            "3.141592653589793\n",
            "25.0\n",
            "3.0\n"
          ]
        }
      ]
    },
    {
      "cell_type": "markdown",
      "source": [
        "#Numpy -- 数値計算用の便利なライブラリ\n",
        "https://numpy.org/"
      ],
      "metadata": {
        "id": "3I9e9jGh_Z5j"
      }
    },
    {
      "cell_type": "code",
      "source": [
        "# numpyをimport\n",
        "import numpy as np\n"
      ],
      "metadata": {
        "id": "9vnEVGDG-2U9"
      },
      "execution_count": 18,
      "outputs": []
    },
    {
      "cell_type": "markdown",
      "source": [
        "#numpy配列("
      ],
      "metadata": {
        "id": "Fk959LjDp3gW"
      }
    },
    {
      "cell_type": "code",
      "source": [
        "#リストを引き渡して\n",
        "a = np.array([5,7,3,1,4,3])\n",
        "print(a)"
      ],
      "metadata": {
        "colab": {
          "base_uri": "https://localhost:8080/"
        },
        "id": "TsJer63ap02G",
        "outputId": "f75ba97a-054b-49a3-ec63-466f8eb85f0f"
      },
      "execution_count": 19,
      "outputs": [
        {
          "output_type": "stream",
          "name": "stdout",
          "text": [
            "[5 7 3 1 4 3]\n"
          ]
        }
      ]
    },
    {
      "cell_type": "markdown",
      "source": [
        "#Numpy配列で操作してみる\n",
        "配列を構成しなおす"
      ],
      "metadata": {
        "id": "OQnktU4KqRgd"
      }
    },
    {
      "cell_type": "code",
      "source": [
        "#現在、aは1行1次元配列\n",
        "print(a)\n",
        "#aを3行2列の2次元配列に構成しなおす\n",
        "b = a.reshape([3,2]) #新しい配列の構成を引数で指定する\n",
        "print(b)"
      ],
      "metadata": {
        "colab": {
          "base_uri": "https://localhost:8080/"
        },
        "id": "bhELCUgkqP3W",
        "outputId": "8fbe5676-038c-4837-e480-bd080ce2ab64"
      },
      "execution_count": 20,
      "outputs": [
        {
          "output_type": "stream",
          "name": "stdout",
          "text": [
            "[5 7 3 1 4 3]\n",
            "[[5 7]\n",
            " [3 1]\n",
            " [4 3]]\n"
          ]
        }
      ]
    },
    {
      "cell_type": "markdown",
      "source": [
        "### Numpy配列の中身を初期化して作る"
      ],
      "metadata": {
        "id": "DWBzTU-dr7R3"
      }
    },
    {
      "cell_type": "code",
      "source": [
        "# 3行4列の0が入った2次元配列を作る\n",
        "c = np.zeros((3,4))\n",
        "print(c)\n",
        "#ランダムな値が入った配列を作る\n",
        "np.random.seed(0)\n",
        "r = np.random.rand(3,4)\n",
        "print(r)"
      ],
      "metadata": {
        "colab": {
          "base_uri": "https://localhost:8080/"
        },
        "id": "ZPRXUUOarJ15",
        "outputId": "1ee8e98b-6558-4ef0-92a5-478167a19482"
      },
      "execution_count": 21,
      "outputs": [
        {
          "output_type": "stream",
          "name": "stdout",
          "text": [
            "[[0. 0. 0. 0.]\n",
            " [0. 0. 0. 0.]\n",
            " [0. 0. 0. 0.]]\n",
            "[[0.5488135  0.71518937 0.60276338 0.54488318]\n",
            " [0.4236548  0.64589411 0.43758721 0.891773  ]\n",
            " [0.96366276 0.38344152 0.79172504 0.52889492]]\n"
          ]
        }
      ]
    },
    {
      "cell_type": "markdown",
      "source": [
        "## Numpyのスライスのやり方\n",
        "### 基本\n",
        "スライスの指定の仕方\n",
        "[start:stop:step]で指定する"
      ],
      "metadata": {
        "id": "3vvqPwU9ugDg"
      }
    },
    {
      "cell_type": "code",
      "source": [
        "#リストのスライス\n",
        "l = list(range(10))\n",
        "print(l)\n",
        "print(l[4:8])\n",
        "print(l[::-1]) #stepを-1でスライス"
      ],
      "metadata": {
        "colab": {
          "base_uri": "https://localhost:8080/"
        },
        "id": "S3HMJTOrtv8O",
        "outputId": "9cbe02fc-7b60-40ea-f7be-1467927a2639"
      },
      "execution_count": 22,
      "outputs": [
        {
          "output_type": "stream",
          "name": "stdout",
          "text": [
            "[0, 1, 2, 3, 4, 5, 6, 7, 8, 9]\n",
            "[4, 5, 6, 7]\n",
            "[9, 8, 7, 6, 5, 4, 3, 2, 1, 0]\n"
          ]
        }
      ]
    },
    {
      "cell_type": "markdown",
      "source": [
        "###1次元のNumpy配列(ndarray)におけるスライス"
      ],
      "metadata": {
        "id": "y3D0vF95xASr"
      }
    },
    {
      "cell_type": "code",
      "source": [
        "# 範囲を指定してndarrayを作る\n",
        "a = np.arange(10) #0～9の10個の要素のndarray\n",
        "print(a)\n",
        "print(a[2:8])\n",
        "print(a[2:8:2]) # step2で2個飛ばし\n",
        "print(a[2:8:3])"
      ],
      "metadata": {
        "colab": {
          "base_uri": "https://localhost:8080/"
        },
        "id": "FYIr-JGeveWB",
        "outputId": "9f6e86a7-503d-4e1e-863b-d0e43e1f5358"
      },
      "execution_count": 23,
      "outputs": [
        {
          "output_type": "stream",
          "name": "stdout",
          "text": [
            "[0 1 2 3 4 5 6 7 8 9]\n",
            "[2 3 4 5 6 7]\n",
            "[2 4 6]\n",
            "[2 5]\n"
          ]
        }
      ]
    },
    {
      "cell_type": "markdown",
      "source": [
        "##1次元配列のndarrayのスライスに代入"
      ],
      "metadata": {
        "id": "XZq8VRSvzfMV"
      }
    },
    {
      "cell_type": "code",
      "source": [
        "print(a)\n",
        "a[3:6] = 100 #指定した範囲に特定の値を代入\n",
        "print(a)\n",
        "a[3:6] = [100,200,300] #指定した範囲にリストの値を代入\n",
        "print(a)\n",
        "# a[3:6] = [100,200,300,400] #3つの範囲を4つの要素で上書き\n",
        "a = np.arange(10)\n",
        "print(a)\n",
        "a[2:8:2] = 100 #start2stop8にstep2で上書き\n",
        "print(a)"
      ],
      "metadata": {
        "colab": {
          "base_uri": "https://localhost:8080/"
        },
        "id": "p3lO6Ns2x4SV",
        "outputId": "da5ca699-7489-49e8-ce6a-781b5f1e5e8a"
      },
      "execution_count": 26,
      "outputs": [
        {
          "output_type": "stream",
          "name": "stdout",
          "text": [
            "[  0   1   2 100 200 300   6   7   8   9]\n",
            "[  0   1   2 100 100 100   6   7   8   9]\n",
            "[  0   1   2 100 200 300   6   7   8   9]\n",
            "[0 1 2 3 4 5 6 7 8 9]\n",
            "[  0   1 100   3 100   5 100   7   8   9]\n"
          ]
        }
      ]
    },
    {
      "cell_type": "markdown",
      "source": [
        "###多次元配列のndarrayのスライス"
      ],
      "metadata": {
        "id": "SC_w9kBT2xKP"
      }
    },
    {
      "cell_type": "code",
      "source": [
        "# 3行4列の2次元配列を作る\n",
        "a = np.arange(12).reshape((3,4))\n",
        "print(a)\n",
        "# 2行目から終わりまでの行 = [1:]\n",
        "# 2列目から4列目までの列　= [1:3]\n",
        "print(a[1:,1:3])\n",
        "b = np.arange(20).reshape(5,4)\n",
        "print(b)\n",
        "#9,10 13,14 17,18 の3行2列だけ抜き出す"
      ],
      "metadata": {
        "colab": {
          "base_uri": "https://localhost:8080/"
        },
        "id": "F4Uk1OyE0CeH",
        "outputId": "26afe471-3ca5-4e87-d37c-7b4e324b8dba"
      },
      "execution_count": 29,
      "outputs": [
        {
          "output_type": "stream",
          "name": "stdout",
          "text": [
            "[[ 0  1  2  3]\n",
            " [ 4  5  6  7]\n",
            " [ 8  9 10 11]]\n",
            "[[ 5  6]\n",
            " [ 9 10]]\n",
            "[[ 0  1  2  3]\n",
            " [ 4  5  6  7]\n",
            " [ 8  9 10 11]\n",
            " [12 13 14 15]\n",
            " [16 17 18 19]]\n"
          ]
        }
      ]
    },
    {
      "cell_type": "code",
      "source": [],
      "metadata": {
        "id": "2JUrLhW83Mat"
      },
      "execution_count": null,
      "outputs": []
    }
  ]
}