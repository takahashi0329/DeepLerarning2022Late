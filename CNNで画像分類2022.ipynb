{
  "nbformat": 4,
  "nbformat_minor": 0,
  "metadata": {
    "colab": {
      "provenance": [],
      "authorship_tag": "ABX9TyOSXrZltB5yyGHQx3du6h3O",
      "include_colab_link": true
    },
    "kernelspec": {
      "name": "python3",
      "display_name": "Python 3"
    },
    "language_info": {
      "name": "python"
    }
  },
  "cells": [
    {
      "cell_type": "markdown",
      "metadata": {
        "id": "view-in-github",
        "colab_type": "text"
      },
      "source": [
        "<a href=\"https://colab.research.google.com/github/takahashi0329/DeepLerarning2022Late/blob/main/CNN%E3%81%A7%E7%94%BB%E5%83%8F%E5%88%86%E9%A1%9E2022.ipynb\" target=\"_parent\"><img src=\"https://colab.research.google.com/assets/colab-badge.svg\" alt=\"Open In Colab\"/></a>"
      ]
    },
    {
      "cell_type": "markdown",
      "source": [
        "#CNNで画像分類\n",
        "##CNNでCIFAR-10の画像データを訓練し、ネットなどの任意の画像を正しく分類できるかどうかを確認"
      ],
      "metadata": {
        "id": "gib0Q_zyUF0M"
      }
    },
    {
      "cell_type": "markdown",
      "source": [
        "##学習用のライブラリを読み込む"
      ],
      "metadata": {
        "id": "lRLaifUyVFOQ"
      }
    },
    {
      "cell_type": "code",
      "source": [
        "from keras.models import Sequential, Model\n",
        "from keras.layers import Conv2D\n",
        "from keras.layers import Flatten\n",
        "from keras.layers import Dense\n",
        "from keras.layers import MaxPooling2D\n",
        "from keras.layers import Dropout"
      ],
      "metadata": {
        "id": "GyR7LlYUUhc4"
      },
      "execution_count": 2,
      "outputs": []
    },
    {
      "cell_type": "markdown",
      "source": [
        "#データセットと表示用ライブラリもimportする\n",
        "##データセットはtensorflow内のCLFA-10"
      ],
      "metadata": {
        "id": "9xLkohYtWwsn"
      }
    },
    {
      "cell_type": "code",
      "source": [
        "import tensorflow as tf #CLFAR10のために読み込む\n",
        "from matplotlib import pyplot #グラフのプッロト表示\n",
        "import numpy as np #データ計算\n",
        "import cv2 # computer vison 画像を取り扱う"
      ],
      "metadata": {
        "id": "Xf40YeR-VPAD"
      },
      "execution_count": 3,
      "outputs": []
    },
    {
      "cell_type": "markdown",
      "source": [
        "## CIFAR10を読み込む"
      ],
      "metadata": {
        "id": "OPRwFs7XYA4d"
      }
    },
    {
      "cell_type": "code",
      "source": [
        "cifar = tf.keras.datasets.cifar10"
      ],
      "metadata": {
        "id": "SjdW5DLMYJ3V"
      },
      "execution_count": 4,
      "outputs": []
    },
    {
      "cell_type": "markdown",
      "source": [
        "###CIFAR10からデータを読み込んで学習用とテスト検証用に振り分ける"
      ],
      "metadata": {
        "id": "6DYzAv75YfkC"
      }
    },
    {
      "cell_type": "code",
      "source": [],
      "metadata": {
        "id": "UYMI3YkYYeUi"
      },
      "execution_count": null,
      "outputs": []
    }
  ]
}