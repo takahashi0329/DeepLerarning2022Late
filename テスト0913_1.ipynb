{
  "nbformat": 4,
  "nbformat_minor": 0,
  "metadata": {
    "colab": {
      "provenance": [],
      "authorship_tag": "ABX9TyOo63JQKsDYSyMyojxJ8o+K",
      "include_colab_link": true
    },
    "kernelspec": {
      "name": "python3",
      "display_name": "Python 3"
    },
    "language_info": {
      "name": "python"
    }
  },
  "cells": [
    {
      "cell_type": "markdown",
      "metadata": {
        "id": "view-in-github",
        "colab_type": "text"
      },
      "source": [
        "<a href=\"https://colab.research.google.com/github/takahashi0329/DeepLerarning2022Late/blob/main/%E3%83%86%E3%82%B9%E3%83%880913_1.ipynb\" target=\"_parent\"><img src=\"https://colab.research.google.com/assets/colab-badge.svg\" alt=\"Open In Colab\"/></a>"
      ]
    },
    {
      "cell_type": "code",
      "execution_count": null,
      "metadata": {
        "id": "qMWOEBFhUGdF"
      },
      "outputs": [],
      "source": []
    },
    {
      "cell_type": "markdown",
      "source": [
        "#リスト型とタプル型\n",
        "##リスト型とタプル型"
      ],
      "metadata": {
        "id": "3MvMmtfrUlGu"
      }
    },
    {
      "cell_type": "code",
      "source": [
        "#リスト\n",
        "list = ['アップル','ペン','ペン','パイナップル']\n",
        "print(list)\n",
        "print(list[1] + list[2])"
      ],
      "metadata": {
        "colab": {
          "base_uri": "https://localhost:8080/"
        },
        "id": "6WdUUyZzU5oP",
        "outputId": "6c09518f-c1f8-451c-fd73-ea68d8377a49"
      },
      "execution_count": null,
      "outputs": [
        {
          "output_type": "stream",
          "name": "stdout",
          "text": [
            "['アップル', 'ペン', 'ペン', 'パイナップル']\n",
            "ペンペン\n"
          ]
        }
      ]
    },
    {
      "cell_type": "code",
      "source": [
        "#タプル\n",
        "tuple = ('アップル','ペン','ペン','ペン','パイナップル')\n",
        "print(tuple)\n",
        "print(tuple[1] + tuple[2])"
      ],
      "metadata": {
        "colab": {
          "base_uri": "https://localhost:8080/"
        },
        "id": "xUouN0Z0WBb8",
        "outputId": "fc67c685-1457-40f0-a44a-7c901de90bc7"
      },
      "execution_count": null,
      "outputs": [
        {
          "output_type": "stream",
          "name": "stdout",
          "text": [
            "('アップル', 'ペン', 'ペン', 'ペン', 'パイナップル')\n",
            "ペンペン\n"
          ]
        }
      ]
    },
    {
      "cell_type": "markdown",
      "source": [
        "###構成を変更できるのはリスト\n",
        "###構成を変更できないの(固定)はタプル"
      ],
      "metadata": {
        "id": "gpXAgqq2XJii"
      }
    },
    {
      "cell_type": "code",
      "source": [
        "#リストの構成変更\n",
        "print(list)\n",
        "list.append(100) #文字列データのリストにあえて数値を追加\n",
        "print(list)\n",
        "del list[2]#リストの3番目を削除\n",
        "print(list)\n",
        "list[3] = 'ペン' #数値100を'ペン'に更新\n",
        "print(list)\n",
        "list.insert(2,'ペン') #2番目の位置に'ペン'を挿入\n",
        "print(list)"
      ],
      "metadata": {
        "colab": {
          "base_uri": "https://localhost:8080/"
        },
        "id": "BTfFpyDnWyQI",
        "outputId": "244fbbfd-95c5-4b72-cbce-2af87d1df564"
      },
      "execution_count": null,
      "outputs": [
        {
          "output_type": "stream",
          "name": "stdout",
          "text": [
            "['アップル', 'ペン', 'ペン', 'パイナップル']\n",
            "['アップル', 'ペン', 'ペン', 'パイナップル', 100]\n",
            "['アップル', 'ペン', 'パイナップル', 100]\n",
            "['アップル', 'ペン', 'パイナップル', 'ペン']\n",
            "['アップル', 'ペン', 'ペン', 'パイナップル', 'ペン']\n"
          ]
        }
      ]
    },
    {
      "cell_type": "markdown",
      "source": [
        "###リストやタプルの長さの取得"
      ],
      "metadata": {
        "id": "kT-0fysjbTIL"
      }
    },
    {
      "cell_type": "code",
      "source": [
        "print(list)\n",
        "len(list) #len()で長さを取得する"
      ],
      "metadata": {
        "colab": {
          "base_uri": "https://localhost:8080/"
        },
        "id": "TNRXBAf4bbP8",
        "outputId": "cfd5d388-fcc7-4e27-c7bd-5fbd9d0d3e73"
      },
      "execution_count": null,
      "outputs": [
        {
          "output_type": "stream",
          "name": "stdout",
          "text": [
            "['アップル', 'ペン', 'ペン', 'パイナップル', 'ペン']\n"
          ]
        },
        {
          "output_type": "execute_result",
          "data": {
            "text/plain": [
              "5"
            ]
          },
          "metadata": {},
          "execution_count": 4
        }
      ]
    },
    {
      "cell_type": "markdown",
      "source": [
        "##スライス\n",
        "### データを抽出する（データを一部とりだす）"
      ],
      "metadata": {
        "id": "29TEiSf4b8dQ"
      }
    },
    {
      "cell_type": "code",
      "source": [
        "print(list)\n",
        "print(list[1]) #何番目の要素の指定の仕方と同じ考えかた\n",
        "print(list[1:3]) #１番目から３番目までの範囲を抽出 = スライス\n",
        "print(list[1:]) #１番目から最後まで抽出(スライス)"
      ],
      "metadata": {
        "colab": {
          "base_uri": "https://localhost:8080/"
        },
        "id": "mpkAuOB_cYse",
        "outputId": "493fb228-c89b-4ecf-e4c6-c68680611364"
      },
      "execution_count": null,
      "outputs": [
        {
          "output_type": "stream",
          "name": "stdout",
          "text": [
            "['アップル', 'ペン', 'ペン', 'パイナップル', 'ペン']\n",
            "ペン\n",
            "['ペン', 'ペン']\n",
            "['ペン', 'ペン', 'パイナップル', 'ペン']\n"
          ]
        }
      ]
    },
    {
      "cell_type": "markdown",
      "source": [
        "#SET型（集合型）\n",
        "集合型SETは、順番を持たない。重複したデータを持たない"
      ],
      "metadata": {
        "id": "1UXKDyULeuOB"
      }
    },
    {
      "cell_type": "code",
      "source": [
        "#uniqという名前のset型変数を作る\n",
        "uniq = set(['アップル','ペン','ペン','パイナップル'])\n",
        "print(uniq)#リストの時点では'ペン'が重複できていたが,set型になって重複が消える"
      ],
      "metadata": {
        "colab": {
          "base_uri": "https://localhost:8080/"
        },
        "id": "4bfW_o0OfiXh",
        "outputId": "81a70e10-6f59-480e-e525-d04b5d0196d0"
      },
      "execution_count": null,
      "outputs": [
        {
          "output_type": "stream",
          "name": "stdout",
          "text": [
            "{'アップル', 'ペン', 'パイナップル'}\n"
          ]
        }
      ]
    },
    {
      "cell_type": "markdown",
      "source": [
        "###集合型の追加変更削除"
      ],
      "metadata": {
        "id": "SE_QIYYNg2qq"
      }
    },
    {
      "cell_type": "code",
      "source": [
        "print(uniq)\n",
        "uniq.add('バナナ')#追加\n",
        "uniq.remove('ペン')#削除\n",
        "print(uniq)"
      ],
      "metadata": {
        "colab": {
          "base_uri": "https://localhost:8080/"
        },
        "id": "SFCD68VHhCYp",
        "outputId": "e0390f9b-1b7d-4913-b5af-f38eb8efa755"
      },
      "execution_count": null,
      "outputs": [
        {
          "output_type": "stream",
          "name": "stdout",
          "text": [
            "{'アップル', 'バナナ', 'ペン', 'パイナップル'}\n",
            "{'アップル', 'バナナ', 'パイナップル'}\n"
          ]
        }
      ]
    },
    {
      "cell_type": "markdown",
      "source": [
        "###集合演算\n",
        "包括、積、和、差分"
      ],
      "metadata": {
        "id": "pjaTOE2hiEsT"
      }
    },
    {
      "cell_type": "code",
      "source": [
        "#uniqの値を再定義\n",
        "uniq = set(['アップル','ペン','ペン','パイナップル'])\n",
        "a = set(['アップル','ペン'])\n",
        "b = set(['ペン','パイナップル'])\n",
        "print(uniq)\n",
        "print(a)\n",
        "print(b)\n",
        "#集合　a は集合　uniq　の　subset(部分集合)である？　＝　包括関係\n",
        "a.issubset(uniq)\n",
        "#　データ'ペン'は集合aの中にある？\n"
      ],
      "metadata": {
        "colab": {
          "base_uri": "https://localhost:8080/"
        },
        "id": "4TVgMz-RiZPb",
        "outputId": "da12ace4-7a3b-4f48-8e55-b1b284e329d4"
      },
      "execution_count": null,
      "outputs": [
        {
          "output_type": "stream",
          "name": "stdout",
          "text": [
            "{'アップル', 'ペン', 'パイナップル'}\n",
            "{'アップル', 'ペン'}\n",
            "{'ペン', 'パイナップル'}\n"
          ]
        }
      ]
    },
    {
      "cell_type": "code",
      "source": [
        "# ある集合と別の集合の共通部分の要素 (intersection)\n",
        "# 集合　a と　集合 b の　共通集合\n",
        "print(a)\n",
        "print(b)\n",
        "print(a.intersection(b))# 集合aのデータで集合bに共通のもの　：積\n",
        "#　集合　a と 集合 b の　結合　：和集合(setなので重複は削除される)\n",
        "a.union(b) #集合aと集合bの集まり\n",
        "# 集合 a と集合 b の差集合　(aのみに含まれる集合)\n",
        "a.difference(b) # aからbを取り除いた残り　(差分：difference)"
      ],
      "metadata": {
        "colab": {
          "base_uri": "https://localhost:8080/"
        },
        "id": "suw4mViUjUkF",
        "outputId": "a606008c-ac50-48de-e9e2-3ede64e576bb"
      },
      "execution_count": null,
      "outputs": [
        {
          "output_type": "stream",
          "name": "stdout",
          "text": [
            "{'アップル', 'ペン'}\n",
            "{'ペン', 'パイナップル'}\n",
            "{'ペン'}\n"
          ]
        },
        {
          "output_type": "execute_result",
          "data": {
            "text/plain": [
              "{'アップル'}"
            ]
          },
          "metadata": {},
          "execution_count": 13
        }
      ]
    },
    {
      "cell_type": "code",
      "source": [],
      "metadata": {
        "id": "N2_3qJDNqZOB"
      },
      "execution_count": null,
      "outputs": []
    }
  ]
}