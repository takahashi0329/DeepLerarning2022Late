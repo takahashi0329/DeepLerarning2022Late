{
  "nbformat": 4,
  "nbformat_minor": 0,
  "metadata": {
    "colab": {
      "provenance": [],
      "authorship_tag": "ABX9TyPMrtPEAfGqcw6jM2biWMYC",
      "include_colab_link": true
    },
    "kernelspec": {
      "name": "python3",
      "display_name": "Python 3"
    },
    "language_info": {
      "name": "python"
    }
  },
  "cells": [
    {
      "cell_type": "markdown",
      "metadata": {
        "id": "view-in-github",
        "colab_type": "text"
      },
      "source": [
        "<a href=\"https://colab.research.google.com/github/takahashi0329/DeepLerarning2022Late/blob/main/0920%E9%96%A2%E6%95%B0%E5%AE%9A%E7%BE%A9.ipynb\" target=\"_parent\"><img src=\"https://colab.research.google.com/assets/colab-badge.svg\" alt=\"Open In Colab\"/></a>"
      ]
    },
    {
      "cell_type": "code",
      "execution_count": null,
      "metadata": {
        "id": "h9fPc4c9bCR0"
      },
      "outputs": [],
      "source": []
    },
    {
      "cell_type": "markdown",
      "source": [
        "#python3で関数を定義する\n",
        "\n",
        "##関数定義"
      ],
      "metadata": {
        "id": "4fVyN2OAbYuI"
      }
    },
    {
      "cell_type": "code",
      "source": [
        "#helloという関数を定義する\n",
        "#\"hello,kansuu!\"と画面表示する関数\n",
        "def hello( ):\n",
        "  print('hello,kansuu!')#インデントされてる\n",
        "  # インデントされている命令文などは関数の範囲の中\n",
        "print('test message！') # インデントされていない\n",
        "# インデントされていない命令文などは関数の範囲の外"
      ],
      "metadata": {
        "colab": {
          "base_uri": "https://localhost:8080/"
        },
        "id": "goYYO3ydbnH4",
        "outputId": "1ae3f446-1647-49e6-941c-159926b6b389"
      },
      "execution_count": 3,
      "outputs": [
        {
          "output_type": "stream",
          "name": "stdout",
          "text": [
            "test message！\n"
          ]
        }
      ]
    },
    {
      "cell_type": "code",
      "source": [],
      "metadata": {
        "id": "Earw8-HadPaR"
      },
      "execution_count": null,
      "outputs": []
    },
    {
      "cell_type": "markdown",
      "source": [
        "##関数を実行する"
      ],
      "metadata": {
        "id": "mFtmCceHeGDV"
      }
    },
    {
      "cell_type": "code",
      "source": [
        "# 作成した関数hello()をコールする\n",
        "hello()\n",
        "hello()"
      ],
      "metadata": {
        "colab": {
          "base_uri": "https://localhost:8080/"
        },
        "id": "rRpNWFNUeNKB",
        "outputId": "4506dfc0-fba1-4adc-b894-c026049dcef6"
      },
      "execution_count": 4,
      "outputs": [
        {
          "output_type": "stream",
          "name": "stdout",
          "text": [
            "hello,kansuu!\n",
            "hello,kansuu!\n"
          ]
        }
      ]
    },
    {
      "cell_type": "code",
      "source": [],
      "metadata": {
        "id": "7OXK407eeauZ"
      },
      "execution_count": null,
      "outputs": []
    },
    {
      "cell_type": "markdown",
      "source": [
        "##引数つきの関数を定義する"
      ],
      "metadata": {
        "id": "HOOJpTaiezGi"
      }
    },
    {
      "cell_type": "code",
      "source": [
        "# 引数付きの関数hello()を定義\n",
        "def hello(who):\n",
        "  print('hello,'+ who +'!')\n",
        "# ここが関数の終わり\n",
        "\n",
        "hello('python!')"
      ],
      "metadata": {
        "colab": {
          "base_uri": "https://localhost:8080/"
        },
        "id": "KqFwKwIhe6IV",
        "outputId": "e8d16d96-0c6e-43c2-dc88-39de76289b2b"
      },
      "execution_count": 5,
      "outputs": [
        {
          "output_type": "stream",
          "name": "stdout",
          "text": [
            "hello,python!!\n"
          ]
        }
      ]
    },
    {
      "cell_type": "code",
      "source": [],
      "metadata": {
        "id": "uPqAtDOtfz8C"
      },
      "execution_count": null,
      "outputs": []
    },
    {
      "cell_type": "markdown",
      "source": [
        "###複数の引数つきの関数を定義"
      ],
      "metadata": {
        "id": "HzKHfJ2rgMce"
      }
    },
    {
      "cell_type": "code",
      "source": [
        "def hello(who,aisatu):\n",
        "  print('hello,' + who + 'さん' + aisatu)\n",
        "# 関数終わり\n",
        "\n",
        "hello('田中','おはよう')\n",
        "hello('鈴木','こんにちは')"
      ],
      "metadata": {
        "colab": {
          "base_uri": "https://localhost:8080/"
        },
        "id": "TpJXn9D5gTB1",
        "outputId": "f142b13c-39bd-4328-df38-9dfcfefdf2c2"
      },
      "execution_count": 8,
      "outputs": [
        {
          "output_type": "stream",
          "name": "stdout",
          "text": [
            "hello,田中さんおはよう\n",
            "hello,鈴木さんこんにちは\n"
          ]
        }
      ]
    },
    {
      "cell_type": "markdown",
      "source": [
        "##関数の戻り値を提供する\n",
        "###戻り値１つの関数を定義"
      ],
      "metadata": {
        "id": "vblbwW2ah0QC"
      }
    },
    {
      "cell_type": "code",
      "source": [
        "def helloBack(who,aisatsu):\n",
        "  return who + 'さん、' + aisatsu\n",
        "# 関数終わり\n",
        "\n",
        "# 戻り値を変数xに代入して表示\n",
        "x = helloBack('斉藤','こんばんは')\n",
        "print(x)"
      ],
      "metadata": {
        "colab": {
          "base_uri": "https://localhost:8080/"
        },
        "id": "OEemf3QBiBgg",
        "outputId": "f81b8a42-5a90-4446-fc5f-48d096f3782a"
      },
      "execution_count": 9,
      "outputs": [
        {
          "output_type": "stream",
          "name": "stdout",
          "text": [
            "斉藤さん、こんばんは\n"
          ]
        }
      ]
    },
    {
      "cell_type": "code",
      "source": [
        "def keisan(x,y):\n",
        "  # x,y, x+y この３つの値を返す\n",
        "  return x, y, x+y\n",
        "# 関数終わり\n",
        "\n",
        "# 関数keisanを実行して戻り値を受け取る\n",
        "e, f, g = keisan(3, 6) # 戻り値が3,6,9になる\n",
        "print(e,f,g)"
      ],
      "metadata": {
        "colab": {
          "base_uri": "https://localhost:8080/"
        },
        "id": "Qmitbt9NjHsC",
        "outputId": "c5fa9ea1-a7a1-4cdb-81e8-e83cf54a161c"
      },
      "execution_count": 13,
      "outputs": [
        {
          "output_type": "stream",
          "name": "stdout",
          "text": [
            "3 6 9\n"
          ]
        }
      ]
    },
    {
      "cell_type": "markdown",
      "source": [
        "# その他の文法\n",
        "## 分岐(if文)"
      ],
      "metadata": {
        "id": "rU-kcUhPlY6b"
      }
    },
    {
      "cell_type": "code",
      "source": [
        "# if文の範囲もインデントで表す\n",
        "# num値を閾値で分岐する\n",
        "def over(num,thres):\n",
        "  if num > thres: # numが閾値より大きいとき\n",
        "    print(str(num) + 'は' + str(thres) + 'より大きい')\n",
        "  else:\n",
        "    print(str(num) + 'は' + str(thres) + '以下です')\n",
        "  #分岐の終わり\n",
        "#関数終わり\n",
        "\n",
        "over(333,100)\n",
        "over(-1,10)"
      ],
      "metadata": {
        "colab": {
          "base_uri": "https://localhost:8080/"
        },
        "id": "2mpfJbptktbG",
        "outputId": "0ba83703-3bfd-4789-a122-b5f3b32ae83d"
      },
      "execution_count": 2,
      "outputs": [
        {
          "output_type": "stream",
          "name": "stdout",
          "text": [
            "333は100より大きい\n",
            "-1は10以下です\n"
          ]
        }
      ]
    },
    {
      "cell_type": "code",
      "source": [
        "# リストに第２引数の値が含まれるか判定\n",
        "def include(list,keyword):\n",
        "  uniq = set(list) # リストを集合に変換\n",
        "  if keyword in uniq:\n",
        "    print(keyword + 'が含まれる')\n",
        "  else:\n",
        "    print(keyword + 'が含まれない')\n",
        "  # 分岐の終わり\n",
        "# 関数終わり\n",
        "\n",
        "#リストを引き渡して作成した関数を実行する\n",
        "list_1 = ['アップル','ペン','ペン','パイナップル']# 第１引数に使うリスト\n",
        "include(list_1,'パイナップル')\n",
        "include(list_1,'バナナ')"
      ],
      "metadata": {
        "colab": {
          "base_uri": "https://localhost:8080/"
        },
        "id": "K1B3bzL0nqAU",
        "outputId": "db950b67-48d0-4732-9dce-d2bb4c3aa8d5"
      },
      "execution_count": 3,
      "outputs": [
        {
          "output_type": "stream",
          "name": "stdout",
          "text": [
            "パイナップルが含まれる\n",
            "バナナが含まれない\n"
          ]
        }
      ]
    },
    {
      "cell_type": "markdown",
      "source": [
        "##繰り返し文(while文)"
      ],
      "metadata": {
        "id": "4XDXxXuyweVK"
      }
    },
    {
      "cell_type": "code",
      "source": [
        "#while文は条件がtureのくりかえす\n",
        "def count(max):\n",
        "  num = 0\n",
        "  while num < max:# numがmax未満の間、繰り返す\n",
        "     print(num)\n",
        "     num += 1\n",
        "  # while繰り返し終わり\n",
        "# 関数終わり\n",
        "\n",
        "count(5) # 作成した関数に引数を引き渡して実行\n"
      ],
      "metadata": {
        "colab": {
          "base_uri": "https://localhost:8080/"
        },
        "id": "Ze4Un-MAv9Fd",
        "outputId": "400fc0f5-24f4-4d01-89ac-d06d314d9660"
      },
      "execution_count": 4,
      "outputs": [
        {
          "output_type": "stream",
          "name": "stdout",
          "text": [
            "0\n",
            "1\n",
            "2\n",
            "3\n",
            "4\n"
          ]
        }
      ]
    },
    {
      "cell_type": "markdown",
      "source": [
        "##繰り返し分(for文)\n",
        "\n",
        "変数βの集合か１つずつ取り出して変数αとして使う\n",
        "\n",
        "for 変数α in range(変数β)"
      ],
      "metadata": {
        "id": "MnV_d1GVypjc"
      }
    },
    {
      "cell_type": "code",
      "source": [
        "# 集合(コレクション)の中から取り出して繰り返し\n",
        "def every(array):\n",
        "  for x in array:# arrayの中から１つずつデータをとりだしxに代入\n",
        "    print(x)\n",
        "  # for文終わり\n",
        "# 関数終わり\n",
        "\n",
        "list = [1,2,3]\n",
        "every(list)\n",
        "tuple = (4,5,6)\n",
        "every(tuple)\n",
        "# 辞書型もコレクション\n",
        "dict = {'a':7, 'b':8, 'c':9}\n",
        "every(dict) # キーワードの一覧表示\n",
        "values = dict.values() # 値のリストを取得\n",
        "every(values) # 値の一覧を表示\n",
        "# 文字列も文字配列としてコレクション扱いができる\n",
        "every('dog') # dogとして表示"
      ],
      "metadata": {
        "colab": {
          "base_uri": "https://localhost:8080/"
        },
        "id": "oF6LcuQfyVx6",
        "outputId": "7de2d6b1-4bfa-46d3-b5c0-8ce80bbd3241"
      },
      "execution_count": 7,
      "outputs": [
        {
          "output_type": "stream",
          "name": "stdout",
          "text": [
            "1\n",
            "2\n",
            "3\n",
            "4\n",
            "5\n",
            "6\n",
            "a\n",
            "b\n",
            "c\n",
            "7\n",
            "8\n",
            "9\n",
            "d\n",
            "o\n",
            "g\n"
          ]
        }
      ]
    },
    {
      "cell_type": "code",
      "source": [
        "# カウンター変数で繰り返す\n",
        "# for n in rang(数値) 0～数値未満繰り返す\n",
        "\n",
        "def count(num):\n",
        "  for i in range(num):\n",
        "    print(i)\n",
        "  #繰り返し終わり\n",
        "#関数終わり\n",
        "\n",
        "count(3) # 3 = 0,1,2で繰り返す"
      ],
      "metadata": {
        "colab": {
          "base_uri": "https://localhost:8080/"
        },
        "id": "XVdK8NJJ0dgh",
        "outputId": "acda6a40-8265-4ccb-9740-59d8562fce2a"
      },
      "execution_count": 8,
      "outputs": [
        {
          "output_type": "stream",
          "name": "stdout",
          "text": [
            "0\n",
            "1\n",
            "2\n"
          ]
        }
      ]
    },
    {
      "cell_type": "markdown",
      "source": [
        "#繰り返しを中断したいときは、break命令"
      ],
      "metadata": {
        "id": "2MZzS_Pt42bP"
      }
    },
    {
      "cell_type": "code",
      "source": [
        "def stop(array):\n",
        "  for i in array:\n",
        "    if i >= 4:\n",
        "      break # ループを中断\n",
        "    print(i)\n",
        "    # 分岐終わり\n",
        "  # ループ終わり\n",
        "# 関数終わり\n",
        "\n",
        "list = [1,2,3,4,5,1,2,3,4,5]\n",
        "stop(list)"
      ],
      "metadata": {
        "colab": {
          "base_uri": "https://localhost:8080/"
        },
        "id": "9VcP0klX4V5N",
        "outputId": "ba7fa6e4-baaa-4ab9-cc28-4bfa64c1fcb7"
      },
      "execution_count": 10,
      "outputs": [
        {
          "output_type": "stream",
          "name": "stdout",
          "text": [
            "1\n",
            "2\n",
            "3\n"
          ]
        }
      ]
    },
    {
      "cell_type": "markdown",
      "source": [
        "#繰り返しをスキップしたいときは、continue命令"
      ],
      "metadata": {
        "id": "pAzgzw6N6f65"
      }
    },
    {
      "cell_type": "code",
      "source": [
        "def skip(array):\n",
        "  for i in array:\n",
        "    if i >= 4:\n",
        "      continue\n",
        "      #分岐終わり\n",
        "    print(i)\n",
        "  #繰り返し終わり\n",
        "#関数終わり\n",
        "list = [1,2,3,4,5,1,2,3,4,5]\n",
        "skip(list)"
      ],
      "metadata": {
        "colab": {
          "base_uri": "https://localhost:8080/"
        },
        "id": "iZRLRs8c5u5u",
        "outputId": "810cac5e-a562-4e5a-d35a-8c8e62ea2d0d"
      },
      "execution_count": 13,
      "outputs": [
        {
          "output_type": "stream",
          "name": "stdout",
          "text": [
            "1\n",
            "2\n",
            "3\n",
            "1\n",
            "2\n",
            "3\n"
          ]
        }
      ]
    },
    {
      "cell_type": "code",
      "source": [],
      "metadata": {
        "id": "yMra82vZ7LI0"
      },
      "execution_count": null,
      "outputs": []
    }
  ]
}