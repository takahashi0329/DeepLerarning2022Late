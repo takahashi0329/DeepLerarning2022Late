{
  "nbformat": 4,
  "nbformat_minor": 0,
  "metadata": {
    "colab": {
      "provenance": [],
      "authorship_tag": "ABX9TyMBSkEdv8/6UL0KAanToPoX",
      "include_colab_link": true
    },
    "kernelspec": {
      "name": "python3",
      "display_name": "Python 3"
    },
    "language_info": {
      "name": "python"
    }
  },
  "cells": [
    {
      "cell_type": "markdown",
      "metadata": {
        "id": "view-in-github",
        "colab_type": "text"
      },
      "source": [
        "<a href=\"https://colab.research.google.com/github/takahashi0329/DeepLerarning2022Late/blob/main/CNN%2BPlots_twolayers2022.ipynb\" target=\"_parent\"><img src=\"https://colab.research.google.com/assets/colab-badge.svg\" alt=\"Open In Colab\"/></a>"
      ]
    },
    {
      "cell_type": "markdown",
      "source": [
        "# CNNの練習(Keras Conv2D)\n",
        "convolutional Neural Netwok 畳み込み層が1つの例"
      ],
      "metadata": {
        "id": "8PzOraffHfwp"
      }
    },
    {
      "cell_type": "markdown",
      "source": [
        "#ライブラリのimport"
      ],
      "metadata": {
        "id": "o753XQIFH7Fv"
      }
    },
    {
      "cell_type": "code",
      "source": [
        "# CNN node 1layer\n",
        "# Conv2Dを使ったCNNの例\n",
        "from keras.models import Sequential,Model\n",
        "from keras.layers import Conv2D # 畳み込み層のクラスモジュール\n",
        "from keras.utils import np_utils"
      ],
      "metadata": {
        "id": "zMGIi8lAH5o8"
      },
      "execution_count": 1,
      "outputs": []
    },
    {
      "cell_type": "markdown",
      "source": [
        "## SVG画像の表示用のライブラリのimport"
      ],
      "metadata": {
        "id": "BeSwXqRRJhHF"
      }
    },
    {
      "cell_type": "code",
      "source": [
        "from IPython.display import SVG\n",
        "from keras.utils.vis_utils import model_to_dot"
      ],
      "metadata": {
        "id": "7NU0eMoBJJ8-"
      },
      "execution_count": 2,
      "outputs": []
    },
    {
      "cell_type": "markdown",
      "source": [
        "### CNN(畳み込みニューラルネットワーク)のモデルをConv2Dライブラリを使って作成"
      ],
      "metadata": {
        "id": "31vsn23BKCAP"
      }
    },
    {
      "cell_type": "code",
      "source": [
        "model = Sequential() #インスタンス生成\n",
        "# CNN畳み込み層を1層追加する\n",
        "model.add(Conv2D(filters=3,\n",
        "                 kernel_size=(3,3), #受容野の大きさ(幅3、縦3)\n",
        "                 input_shape=(6,6,1),\n",
        "                 name='Conv2D_1'\n",
        "                 ))"
      ],
      "metadata": {
        "id": "ajJYsiroKAJy"
      },
      "execution_count": 3,
      "outputs": []
    },
    {
      "cell_type": "markdown",
      "source": [
        "### 2つめの畳み込み層を追加"
      ],
      "metadata": {
        "id": "mjGxwdBRR5ea"
      }
    },
    {
      "cell_type": "code",
      "source": [
        "model.add(Conv2D(filters=2,\n",
        "                 kernel_size=(3,3),\n",
        "                 name='Conv2D_2'))"
      ],
      "metadata": {
        "id": "uSwcxat-SDM5"
      },
      "execution_count": 4,
      "outputs": []
    },
    {
      "cell_type": "markdown",
      "source": [
        "### SVG画像で作成したモデルの構成を表示\n",
        "CNN(畳み込み)で特徴を抜き出すだけのモデルの状態です"
      ],
      "metadata": {
        "id": "GXVJrbyDMs16"
      }
    },
    {
      "cell_type": "code",
      "source": [
        "SVG(model_to_dot(model,show_shapes=True).create(prog='dot',format='svg'))"
      ],
      "metadata": {
        "colab": {
          "base_uri": "https://localhost:8080/",
          "height": 415
        },
        "id": "b5bqXAF7MsJs",
        "outputId": "fbb3141c-a0e7-4f3a-e542-3fafc17128c0"
      },
      "execution_count": 5,
      "outputs": [
        {
          "output_type": "execute_result",
          "data": {
            "text/plain": [
              "<IPython.core.display.SVG object>"
            ],
            "image/svg+xml": "<svg height=\"295pt\" viewBox=\"0.00 0.00 296.00 221.00\" width=\"395pt\" xmlns=\"http://www.w3.org/2000/svg\" xmlns:xlink=\"http://www.w3.org/1999/xlink\">\n<g class=\"graph\" id=\"graph0\" transform=\"scale(1.3333 1.3333) rotate(0) translate(4 217)\">\n<title>G</title>\n<polygon fill=\"#ffffff\" points=\"-4,4 -4,-217 292,-217 292,4 -4,4\" stroke=\"transparent\"/>\n<!-- 139790135476112 -->\n<g class=\"node\" id=\"node1\">\n<title>139790135476112</title>\n<polygon fill=\"none\" points=\"0,-166.5 0,-212.5 288,-212.5 288,-166.5 0,-166.5\" stroke=\"#000000\"/>\n<text fill=\"#000000\" font-family=\"Times,serif\" font-size=\"14.00\" text-anchor=\"middle\" x=\"59.5\" y=\"-197.3\">Conv2D_1_input</text>\n<polyline fill=\"none\" points=\"0,-189.5 119,-189.5 \" stroke=\"#000000\"/>\n<text fill=\"#000000\" font-family=\"Times,serif\" font-size=\"14.00\" text-anchor=\"middle\" x=\"59.5\" y=\"-174.3\">InputLayer</text>\n<polyline fill=\"none\" points=\"119,-166.5 119,-212.5 \" stroke=\"#000000\"/>\n<text fill=\"#000000\" font-family=\"Times,serif\" font-size=\"14.00\" text-anchor=\"middle\" x=\"148\" y=\"-197.3\">input:</text>\n<polyline fill=\"none\" points=\"119,-189.5 177,-189.5 \" stroke=\"#000000\"/>\n<text fill=\"#000000\" font-family=\"Times,serif\" font-size=\"14.00\" text-anchor=\"middle\" x=\"148\" y=\"-174.3\">output:</text>\n<polyline fill=\"none\" points=\"177,-166.5 177,-212.5 \" stroke=\"#000000\"/>\n<text fill=\"#000000\" font-family=\"Times,serif\" font-size=\"14.00\" text-anchor=\"middle\" x=\"232.5\" y=\"-197.3\">[(None, 6, 6, 1)]</text>\n<polyline fill=\"none\" points=\"177,-189.5 288,-189.5 \" stroke=\"#000000\"/>\n<text fill=\"#000000\" font-family=\"Times,serif\" font-size=\"14.00\" text-anchor=\"middle\" x=\"232.5\" y=\"-174.3\">[(None, 6, 6, 1)]</text>\n</g>\n<!-- 139790135375120 -->\n<g class=\"node\" id=\"node2\">\n<title>139790135375120</title>\n<polygon fill=\"none\" points=\"23,-83.5 23,-129.5 265,-129.5 265,-83.5 23,-83.5\" stroke=\"#000000\"/>\n<text fill=\"#000000\" font-family=\"Times,serif\" font-size=\"14.00\" text-anchor=\"middle\" x=\"64\" y=\"-114.3\">Conv2D_1</text>\n<polyline fill=\"none\" points=\"23,-106.5 105,-106.5 \" stroke=\"#000000\"/>\n<text fill=\"#000000\" font-family=\"Times,serif\" font-size=\"14.00\" text-anchor=\"middle\" x=\"64\" y=\"-91.3\">Conv2D</text>\n<polyline fill=\"none\" points=\"105,-83.5 105,-129.5 \" stroke=\"#000000\"/>\n<text fill=\"#000000\" font-family=\"Times,serif\" font-size=\"14.00\" text-anchor=\"middle\" x=\"134\" y=\"-114.3\">input:</text>\n<polyline fill=\"none\" points=\"105,-106.5 163,-106.5 \" stroke=\"#000000\"/>\n<text fill=\"#000000\" font-family=\"Times,serif\" font-size=\"14.00\" text-anchor=\"middle\" x=\"134\" y=\"-91.3\">output:</text>\n<polyline fill=\"none\" points=\"163,-83.5 163,-129.5 \" stroke=\"#000000\"/>\n<text fill=\"#000000\" font-family=\"Times,serif\" font-size=\"14.00\" text-anchor=\"middle\" x=\"214\" y=\"-114.3\">(None, 6, 6, 1)</text>\n<polyline fill=\"none\" points=\"163,-106.5 265,-106.5 \" stroke=\"#000000\"/>\n<text fill=\"#000000\" font-family=\"Times,serif\" font-size=\"14.00\" text-anchor=\"middle\" x=\"214\" y=\"-91.3\">(None, 4, 4, 3)</text>\n</g>\n<!-- 139790135476112&#45;&gt;139790135375120 -->\n<g class=\"edge\" id=\"edge1\">\n<title>139790135476112-&gt;139790135375120</title>\n<path d=\"M144,-166.3799C144,-158.1745 144,-148.7679 144,-139.8786\" fill=\"none\" stroke=\"#000000\"/>\n<polygon fill=\"#000000\" points=\"147.5001,-139.784 144,-129.784 140.5001,-139.784 147.5001,-139.784\" stroke=\"#000000\"/>\n</g>\n<!-- 139790053317392 -->\n<g class=\"node\" id=\"node3\">\n<title>139790053317392</title>\n<polygon fill=\"none\" points=\"23,-.5 23,-46.5 265,-46.5 265,-.5 23,-.5\" stroke=\"#000000\"/>\n<text fill=\"#000000\" font-family=\"Times,serif\" font-size=\"14.00\" text-anchor=\"middle\" x=\"64\" y=\"-31.3\">Conv2D_2</text>\n<polyline fill=\"none\" points=\"23,-23.5 105,-23.5 \" stroke=\"#000000\"/>\n<text fill=\"#000000\" font-family=\"Times,serif\" font-size=\"14.00\" text-anchor=\"middle\" x=\"64\" y=\"-8.3\">Conv2D</text>\n<polyline fill=\"none\" points=\"105,-.5 105,-46.5 \" stroke=\"#000000\"/>\n<text fill=\"#000000\" font-family=\"Times,serif\" font-size=\"14.00\" text-anchor=\"middle\" x=\"134\" y=\"-31.3\">input:</text>\n<polyline fill=\"none\" points=\"105,-23.5 163,-23.5 \" stroke=\"#000000\"/>\n<text fill=\"#000000\" font-family=\"Times,serif\" font-size=\"14.00\" text-anchor=\"middle\" x=\"134\" y=\"-8.3\">output:</text>\n<polyline fill=\"none\" points=\"163,-.5 163,-46.5 \" stroke=\"#000000\"/>\n<text fill=\"#000000\" font-family=\"Times,serif\" font-size=\"14.00\" text-anchor=\"middle\" x=\"214\" y=\"-31.3\">(None, 4, 4, 3)</text>\n<polyline fill=\"none\" points=\"163,-23.5 265,-23.5 \" stroke=\"#000000\"/>\n<text fill=\"#000000\" font-family=\"Times,serif\" font-size=\"14.00\" text-anchor=\"middle\" x=\"214\" y=\"-8.3\">(None, 2, 2, 2)</text>\n</g>\n<!-- 139790135375120&#45;&gt;139790053317392 -->\n<g class=\"edge\" id=\"edge2\">\n<title>139790135375120-&gt;139790053317392</title>\n<path d=\"M144,-83.3799C144,-75.1745 144,-65.7679 144,-56.8786\" fill=\"none\" stroke=\"#000000\"/>\n<polygon fill=\"#000000\" points=\"147.5001,-56.784 144,-46.784 140.5001,-56.784 147.5001,-56.784\" stroke=\"#000000\"/>\n</g>\n</g>\n</svg>"
          },
          "metadata": {},
          "execution_count": 5
        }
      ]
    },
    {
      "cell_type": "code",
      "source": [],
      "metadata": {
        "id": "gEfak8D5Sk4E"
      },
      "execution_count": null,
      "outputs": []
    }
  ]
}